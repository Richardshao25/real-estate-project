{
 "cells": [
  {
   "cell_type": "markdown",
   "metadata": {},
   "source": [
    "# Scrape old listing data All\n",
    "this is for queued scraping for running it whole night"
   ]
  },
  {
   "cell_type": "code",
   "execution_count": 1,
   "metadata": {},
   "outputs": [],
   "source": [
    "# this notebook may seems repeated\n",
    "# but it is for concurrence with the other notebooks"
   ]
  },
  {
   "cell_type": "code",
   "execution_count": 2,
   "metadata": {},
   "outputs": [],
   "source": [
    "import pickle\n",
    "base_url = 'https://www.oldlistings.com.au'\n",
    "# import requests\n",
    "import grequests\n",
    "from itertools import islice\n",
    "from tqdm import tqdm\n",
    "import time\n",
    "import sys\n",
    "sys.path.append('../')\n",
    "from scripts.env import R_KEY, KEY_1,KEY_2,KEY_3,KEY_4\n",
    "\n",
    "with open(\"../data/landing/oldlistings/rent_pages.p\", \"rb\") as f:\n",
    "    list_rent_2 = pickle.load(f)\n",
    "with open(\"../data/landing/oldlistings/buy_pages.p\", \"rb\") as f:\n",
    "    list_buy_2 = pickle.load(f)"
   ]
  },
  {
   "cell_type": "code",
   "execution_count": 3,
   "metadata": {},
   "outputs": [],
   "source": [
    "def fetch_in_batches_2(urls, batch_size=5, base_url = 'https://www.oldlistings.com.au'):\n",
    "    print(f\"Fetching {len(urls)/batch_size} batches\")\n",
    "    for batch in tqdm(iter_batches(urls, batch_size)):\n",
    "        rs = (grequests.get('https://api.scraperapi.com/', params = { 'api_key': scraper_api_key, 'url': base_url + url }) for url in batch)\n",
    "        responses = grequests.map(rs)\n",
    "        for i in range(len(responses)):\n",
    "            _items = batch[i].split('/')\n",
    "            r = responses[i]\n",
    "            # print(r)\n",
    "            with open(f\"../data/landing/oldlistings/{_items[-2]}_html/{_items[-3]}_{_items[-4]}_{_items[-1]}.html\", \"w\") as f:\n",
    "                f.write(r.text)\n",
    "def iter_batches(iterable, batch_size):\n",
    "    it = iter(iterable)\n",
    "    while True:\n",
    "        batch = list(islice(it, batch_size))\n",
    "        if not batch:\n",
    "            break\n",
    "        yield batch"
   ]
  },
  {
   "cell_type": "markdown",
   "metadata": {},
   "source": [
    "# func"
   ]
  },
  {
   "cell_type": "code",
   "execution_count": 4,
   "metadata": {},
   "outputs": [],
   "source": [
    "def is_proper_html(file_path):\n",
    "    try:\n",
    "        # Open the file and read the first few lines or bytes (enough to check the start)\n",
    "        with open(file_path, 'r', encoding='utf-8') as f:\n",
    "            first_line = f.read(256).strip().lower()  # Read first 256 bytes/characters\n",
    "\n",
    "        # Check if it starts with common HTML starting tags\n",
    "        if first_line.startswith('<!doctype html>') or first_line.startswith('<html>'):\n",
    "            return True\n",
    "        else:\n",
    "            return False\n",
    "\n",
    "    except FileNotFoundError:\n",
    "        # print(f\"File {file_path} not found.\")\n",
    "        return False\n",
    "    except Exception as e:\n",
    "        # print(f\"An error occurred: {e}\")\n",
    "        return False\n",
    "\n",
    "def path_generator(link):\n",
    "    _items = link.split('/')\n",
    "    return f\"../data/landing/oldlistings/{_items[-2]}_html/{_items[-3]}_{_items[-4]}_{_items[-1]}.html\"\n",
    "# # Example usage\n",
    "# file_path = 'example.html'\n",
    "# if is_proper_html(file_path):\n",
    "#     print(\"The file starts with a proper HTML format.\")\n",
    "# else:\n",
    "#     print(\"The file does not start with a proper HTML format.\")\n"
   ]
  },
  {
   "cell_type": "code",
   "execution_count": null,
   "metadata": {},
   "outputs": [],
   "source": [
    "\n"
   ]
  },
  {
   "cell_type": "markdown",
   "metadata": {},
   "source": [
    "## 0-5000\n"
   ]
  },
  {
   "cell_type": "code",
   "execution_count": 5,
   "metadata": {},
   "outputs": [
    {
     "data": {
      "text/plain": [
       "5000"
      ]
     },
     "execution_count": 5,
     "metadata": {},
     "output_type": "execute_result"
    }
   ],
   "source": [
    "# verify the files\n",
    "count = 0\n",
    "for link in list_rent_2[0:5000]:\n",
    "    if is_proper_html(path_generator(link)):\n",
    "        count += 1\n",
    "count"
   ]
  },
  {
   "cell_type": "code",
   "execution_count": 6,
   "metadata": {},
   "outputs": [
    {
     "name": "stdout",
     "output_type": "stream",
     "text": [
      "Fetching 0.0 batches\n"
     ]
    },
    {
     "name": "stderr",
     "output_type": "stream",
     "text": [
      "0it [00:00, ?it/s]\n"
     ]
    }
   ],
   "source": [
    "scraper_api_key = R_KEY\n",
    "fetch_in_batches_2([link for link in list_rent_2[5000:5010] if not is_proper_html(path_generator(link))])"
   ]
  },
  {
   "cell_type": "markdown",
   "metadata": {},
   "source": [
    "## 5000-10000"
   ]
  },
  {
   "cell_type": "code",
   "execution_count": 24,
   "metadata": {},
   "outputs": [
    {
     "data": {
      "text/plain": [
       "5000"
      ]
     },
     "execution_count": 24,
     "metadata": {},
     "output_type": "execute_result"
    }
   ],
   "source": [
    "# time.sleep(10)\n",
    "lo = 5000\n",
    "hi = 10000\n",
    "count = 0\n",
    "for link in list_rent_2[lo:hi]:\n",
    "    if is_proper_html(path_generator(link)):\n",
    "        count += 1\n",
    "count"
   ]
  },
  {
   "cell_type": "code",
   "execution_count": 8,
   "metadata": {},
   "outputs": [
    {
     "name": "stdout",
     "output_type": "stream",
     "text": [
      "Fetching 630.6 batches\n"
     ]
    },
    {
     "name": "stderr",
     "output_type": "stream",
     "text": [
      "631it [1:15:22,  7.17s/it]\n"
     ]
    }
   ],
   "source": [
    "scraper_api_key = KEY_4\n",
    "fetch_in_batches_2([link for link in list_rent_2[lo:hi] if not is_proper_html(path_generator(link))])"
   ]
  },
  {
   "cell_type": "markdown",
   "metadata": {},
   "source": [
    "## 10000-15000"
   ]
  },
  {
   "cell_type": "code",
   "execution_count": 25,
   "metadata": {},
   "outputs": [
    {
     "data": {
      "text/plain": [
       "5000"
      ]
     },
     "execution_count": 25,
     "metadata": {},
     "output_type": "execute_result"
    }
   ],
   "source": [
    "# time.sleep(10)\n",
    "lo = 10000\n",
    "hi = 15000\n",
    "count = 0\n",
    "for link in list_rent_2[lo:hi]:\n",
    "    if is_proper_html(path_generator(link)):\n",
    "        count += 1\n",
    "count"
   ]
  },
  {
   "cell_type": "code",
   "execution_count": 21,
   "metadata": {},
   "outputs": [
    {
     "name": "stdout",
     "output_type": "stream",
     "text": [
      "Fetching 9.0 batches\n"
     ]
    },
    {
     "name": "stderr",
     "output_type": "stream",
     "text": [
      "9it [01:30, 10.03s/it]\n"
     ]
    }
   ],
   "source": [
    "scraper_api_key = R_KEY\n",
    "fetch_in_batches_2([link for link in list_rent_2[lo:hi] if not is_proper_html(path_generator(link))])"
   ]
  },
  {
   "cell_type": "markdown",
   "metadata": {},
   "source": [
    "## 15000-20000"
   ]
  },
  {
   "cell_type": "code",
   "execution_count": 26,
   "metadata": {},
   "outputs": [
    {
     "data": {
      "text/plain": [
       "4944"
      ]
     },
     "execution_count": 26,
     "metadata": {},
     "output_type": "execute_result"
    }
   ],
   "source": [
    "# time.sleep(10)\n",
    "lo = 15000\n",
    "hi = 20000\n",
    "count = 0\n",
    "for link in list_rent_2[lo:hi]:\n",
    "    if is_proper_html(path_generator(link)):\n",
    "        count += 1\n",
    "count"
   ]
  },
  {
   "cell_type": "code",
   "execution_count": 22,
   "metadata": {},
   "outputs": [
    {
     "name": "stdout",
     "output_type": "stream",
     "text": [
      "Fetching 0.0 batches\n"
     ]
    },
    {
     "name": "stderr",
     "output_type": "stream",
     "text": [
      "0it [00:00, ?it/s]\n"
     ]
    }
   ],
   "source": [
    "scraper_api_key = R_KEY\n",
    "fetch_in_batches_2([link for link in list_rent_2[lo:hi] if not is_proper_html(path_generator(link))])"
   ]
  },
  {
   "cell_type": "markdown",
   "metadata": {},
   "source": [
    "## 20000 - 25000"
   ]
  },
  {
   "cell_type": "code",
   "execution_count": 18,
   "metadata": {},
   "outputs": [
    {
     "data": {
      "text/plain": [
       "5000"
      ]
     },
     "execution_count": 18,
     "metadata": {},
     "output_type": "execute_result"
    }
   ],
   "source": [
    "time.sleep(10)\n",
    "lo = 20000\n",
    "hi = 25000\n",
    "count = 0\n",
    "for link in list_rent_2[lo:hi]:\n",
    "    if is_proper_html(path_generator(link)):\n",
    "        count += 1\n",
    "count"
   ]
  },
  {
   "cell_type": "code",
   "execution_count": 17,
   "metadata": {},
   "outputs": [
    {
     "name": "stdout",
     "output_type": "stream",
     "text": [
      "Fetching 8.2 batches\n"
     ]
    },
    {
     "name": "stderr",
     "output_type": "stream",
     "text": [
      "9it [01:44, 11.64s/it]\n"
     ]
    }
   ],
   "source": [
    "scraper_api_key = R_KEY\n",
    "fetch_in_batches_2([link for link in list_rent_2[lo:hi] if not is_proper_html(path_generator(link))])"
   ]
  },
  {
   "cell_type": "markdown",
   "metadata": {},
   "source": [
    "## Random sections"
   ]
  },
  {
   "cell_type": "code",
   "execution_count": 31,
   "metadata": {},
   "outputs": [
    {
     "name": "stdout",
     "output_type": "stream",
     "text": [
      "25776\n",
      "25776\n"
     ]
    }
   ],
   "source": [
    "lo = 0\n",
    "hi = len(list_rent_2)\n",
    "print(hi)\n",
    "count = 0\n",
    "for link in list_rent_2[lo:hi]:\n",
    "    if is_proper_html(path_generator(link)):\n",
    "        count += 1\n",
    "print(count)"
   ]
  },
  {
   "cell_type": "code",
   "execution_count": 30,
   "metadata": {},
   "outputs": [
    {
     "name": "stdout",
     "output_type": "stream",
     "text": [
      "Fetching 11.2 batches\n"
     ]
    },
    {
     "name": "stderr",
     "output_type": "stream",
     "text": [
      "12it [01:12,  6.04s/it]\n"
     ]
    }
   ],
   "source": [
    "scraper_api_key = R_KEY\n",
    "fetch_in_batches_2([link for link in list_rent_2 if not is_proper_html(path_generator(link))])"
   ]
  },
  {
   "cell_type": "code",
   "execution_count": 32,
   "metadata": {},
   "outputs": [
    {
     "data": {
      "text/plain": [
       "29282"
      ]
     },
     "execution_count": 32,
     "metadata": {},
     "output_type": "execute_result"
    }
   ],
   "source": [
    "import os\n",
    "# count how many files are there\n",
    "len(os.listdir('../data/landing/oldlistings/rent_html'))"
   ]
  }
 ],
 "metadata": {
  "kernelspec": {
   "display_name": ".venv",
   "language": "python",
   "name": "python3"
  },
  "language_info": {
   "codemirror_mode": {
    "name": "ipython",
    "version": 3
   },
   "file_extension": ".py",
   "mimetype": "text/x-python",
   "name": "python",
   "nbconvert_exporter": "python",
   "pygments_lexer": "ipython3",
   "version": "3.10.12"
  }
 },
 "nbformat": 4,
 "nbformat_minor": 2
}
