{
 "cells": [
  {
   "cell_type": "markdown",
   "metadata": {},
   "source": [
    "Note:\n",
    "\n"
   ]
  },
  {
   "cell_type": "code",
   "execution_count": 1,
   "metadata": {},
   "outputs": [
    {
     "name": "stderr",
     "output_type": "stream",
     "text": [
      "/home/even/repo/project-2-group-real-estate-industry-project-2/.venv/lib/python3.10/site-packages/tqdm/auto.py:21: TqdmWarning: IProgress not found. Please update jupyter and ipywidgets. See https://ipywidgets.readthedocs.io/en/stable/user_install.html\n",
      "  from .autonotebook import tqdm as notebook_tqdm\n"
     ]
    }
   ],
   "source": [
    "import pandas as pd\n",
    "import geopandas as gpd\n",
    "from shapely import wkt\n",
    "from shapely.geometry import Point\n",
    "from scipy.spatial import cKDTree\n",
    "import numpy as np\n",
    "import requests\n",
    "import json\n",
    "from tqdm.auto import tqdm\n",
    "import matplotlib.pyplot as plt\n",
    "tqdm.pandas()  # \"tqdm>=4.9.0\""
   ]
  },
  {
   "cell_type": "markdown",
   "metadata": {},
   "source": [
    "# property data"
   ]
  },
  {
   "cell_type": "code",
   "execution_count": 2,
   "metadata": {},
   "outputs": [],
   "source": [
    "property_data_path = \"../data/curated/rental-17-24.csv\"\n",
    "output_dir = \"../data/raw/time_park.csv\"\n",
    "property_df = pd.read_csv(property_data_path)\n",
    "coords = property_df[['lat', 'lng']].drop_duplicates()"
   ]
  },
  {
   "cell_type": "markdown",
   "metadata": {},
   "source": [
    "# Parks"
   ]
  },
  {
   "cell_type": "code",
   "execution_count": 9,
   "metadata": {},
   "outputs": [],
   "source": [
    "parks_path = \"../data/curated/parks-and-reserves1.csv\"\n",
    "parks_df = pd.read_csv(parks_path)[['latitude', 'longitude']]\n",
    "parks_df.rename(columns={'latitude': 'lat', 'longitude': 'lng'}, inplace=True)"
   ]
  },
  {
   "cell_type": "code",
   "execution_count": 11,
   "metadata": {},
   "outputs": [],
   "source": [
    "num_to_find = 1\n",
    "tree = cKDTree(parks_df[['lng', 'lat']].values)\n",
    "property_coords = coords[['lng', 'lat']].values\n",
    "distances, indices = tree.query(property_coords, k=1)\n",
    "coords[\"park_index\"] = list(indices)"
   ]
  },
  {
   "cell_type": "code",
   "execution_count": 12,
   "metadata": {},
   "outputs": [
    {
     "data": {
      "text/plain": [
       "park_index\n",
       "1351    191606\n",
       "2112     67516\n",
       "2689     31368\n",
       "2383     13297\n",
       "1616     12795\n",
       "         ...  \n",
       "412          1\n",
       "1246         1\n",
       "1202         1\n",
       "2672         1\n",
       "396          1\n",
       "Name: count, Length: 2136, dtype: int64"
      ]
     },
     "execution_count": 12,
     "metadata": {},
     "output_type": "execute_result"
    }
   ],
   "source": [
    "coords[\"park_index\"].value_counts()"
   ]
  },
  {
   "cell_type": "code",
   "execution_count": 13,
   "metadata": {},
   "outputs": [],
   "source": [
    "from collections import defaultdict\n",
    "err_count = defaultdict(int)\n",
    "def get_time_proximity(coordinates):\n",
    "    url = \"http://localhost:8080/ors/v2/directions/driving-car\"\n",
    "    body = {\"coordinates\": coordinates}\n",
    "    # print(body)\n",
    "    response = requests.post(url, json=body)\n",
    "    try:\n",
    "        if response.status_code == 200:\n",
    "            summary = response.json()[\"routes\"][0][\"summary\"]\n",
    "            if \"duration\" in summary:\n",
    "                return summary[\"duration\"]\n",
    "            return 0\n",
    "        else:\n",
    "            \n",
    "            if(response.json()[\"error\"][\"code\"] == 2004):\n",
    "                # distance is too long (> 100000.0 m)\n",
    "                err_count[2004] += 1\n",
    "                return -1\n",
    "            if(response.json()[\"error\"][\"code\"] == 2010):\n",
    "                err_count[2010] += 1\n",
    "                # \"error\":{\"code\":2010,\"message\":\"Could not find routable point within a radius of 400.0 meters of specified coordinate\n",
    "                return -1\n",
    "            print(response.text)\n",
    "            print(body)\n",
    "            \n",
    "            raise Exception(\"Error in request\")\n",
    "    except Exception as e:\n",
    "        print(response.json())\n",
    "        raise e\n",
    "\n",
    "# # Example usage\n",
    "# directions = get_time_proximity([[144.96332, -37.8140], [144.96332, -37.8120]])\n",
    "# print(directions)"
   ]
  },
  {
   "cell_type": "code",
   "execution_count": 14,
   "metadata": {},
   "outputs": [],
   "source": [
    "def get_time_proximity_from_property(row, cities):\n",
    "    city = cities.iloc[int(row['city_index'])]\n",
    "    coordinates = [[row['lng'], row['lat']], [city['lng'], city['lat']]]\n",
    "    time = get_time_proximity(coordinates)\n",
    "    # print(time)\n",
    "    return time"
   ]
  },
  {
   "cell_type": "code",
   "execution_count": 15,
   "metadata": {},
   "outputs": [
    {
     "data": {
      "text/plain": [
       "(394888, 4)"
      ]
     },
     "execution_count": 15,
     "metadata": {},
     "output_type": "execute_result"
    }
   ],
   "source": [
    "coords.shape"
   ]
  },
  {
   "cell_type": "code",
   "execution_count": 18,
   "metadata": {},
   "outputs": [
    {
     "name": "stderr",
     "output_type": "stream",
     "text": [
      "100%|██████████| 394888/394888 [15:39<00:00, 420.28it/s]\n"
     ]
    }
   ],
   "source": [
    "# dist time matching\n",
    "coords[\"time_city\"] = coords.progress_apply(lambda row: get_time_proximity_from_property(row, parks_df), axis=1)\n",
    "# property_df.to_csv(f\"../data/raw/property/rent_{i}_ptv.csv\", index=False)"
   ]
  },
  {
   "cell_type": "code",
   "execution_count": 19,
   "metadata": {},
   "outputs": [
    {
     "data": {
      "text/plain": [
       "defaultdict(int, {2010: 140})"
      ]
     },
     "execution_count": 19,
     "metadata": {},
     "output_type": "execute_result"
    }
   ],
   "source": [
    "err_count"
   ]
  },
  {
   "cell_type": "code",
   "execution_count": 21,
   "metadata": {},
   "outputs": [],
   "source": [
    "coords.to_csv(output_dir, index=False)"
   ]
  },
  {
   "cell_type": "markdown",
   "metadata": {},
   "source": [
    "# join to orginal dataset"
   ]
  },
  {
   "cell_type": "markdown",
   "metadata": {},
   "source": [
    "## read all"
   ]
  },
  {
   "cell_type": "code",
   "execution_count": 28,
   "metadata": {},
   "outputs": [],
   "source": [
    "import sys, os\n",
    "import pandas as pd\n",
    "import geopandas as gpd\n",
    "sys.path.append(\"../\")\n",
    "from scripts.proximity import proximity_hard_join, proximity_sjoin"
   ]
  },
  {
   "cell_type": "code",
   "execution_count": 33,
   "metadata": {},
   "outputs": [],
   "source": [
    "cleaned_df = pd.read_csv(property_data_path)\n",
    "city_df = pd.read_csv(city_output)"
   ]
  },
  {
   "cell_type": "code",
   "execution_count": null,
   "metadata": {},
   "outputs": [],
   "source": [
    "cleaned_df"
   ]
  },
  {
   "cell_type": "code",
   "execution_count": 34,
   "metadata": {},
   "outputs": [
    {
     "name": "stderr",
     "output_type": "stream",
     "text": [
      "/home/even/repo/project-2-group-real-estate-industry-project-2/.venv/lib/python3.10/site-packages/geopandas/array.py:403: UserWarning: Geometry is in a geographic CRS. Results from 'sjoin_nearest' are likely incorrect. Use 'GeoSeries.to_crs()' to re-project geometries to a projected CRS before this operation.\n",
      "\n",
      "  warnings.warn(\n"
     ]
    },
    {
     "data": {
      "text/plain": [
       "(106402, 20)"
      ]
     },
     "execution_count": 34,
     "metadata": {},
     "output_type": "execute_result"
    }
   ],
   "source": [
    "proximity_sjoin(cleaned_df, city_df).shape"
   ]
  },
  {
   "cell_type": "code",
   "execution_count": 5,
   "metadata": {},
   "outputs": [
    {
     "data": {
      "text/plain": [
       "time_city\n",
       "-1.0       44211\n",
       " 1979.6       37\n",
       " 1952.0       36\n",
       " 2044.8       36\n",
       " 1991.7       36\n",
       "           ...  \n",
       " 3717.8        1\n",
       " 3726.9        1\n",
       " 3516.5        1\n",
       " 3411.1        1\n",
       " 4702.7        1\n",
       "Name: count, Length: 49128, dtype: int64"
      ]
     },
     "execution_count": 5,
     "metadata": {},
     "output_type": "execute_result"
    }
   ],
   "source": [
    "city_df['time_city'].value_counts()"
   ]
  },
  {
   "cell_type": "code",
   "execution_count": 82,
   "metadata": {},
   "outputs": [
    {
     "name": "stderr",
     "output_type": "stream",
     "text": [
      "/home/even/repo/project-2-group-real-estate-industry-project-2/.venv/lib/python3.10/site-packages/geopandas/array.py:403: UserWarning: Geometry is in a geographic CRS. Results from 'sjoin_nearest' are likely incorrect. Use 'GeoSeries.to_crs()' to re-project geometries to a projected CRS before this operation.\n",
      "\n",
      "  warnings.warn(\n"
     ]
    },
    {
     "ename": "ValueError",
     "evalue": "'index_right' cannot be a column name in the frames being joined",
     "output_type": "error",
     "traceback": [
      "\u001b[0;31m---------------------------------------------------------------------------\u001b[0m",
      "\u001b[0;31mValueError\u001b[0m                                Traceback (most recent call last)",
      "Cell \u001b[0;32mIn[82], line 13\u001b[0m\n\u001b[1;32m     10\u001b[0m gpd_cleaned_df \u001b[38;5;241m=\u001b[39m gpd_cleaned_df\u001b[38;5;241m.\u001b[39mset_crs(\u001b[38;5;124m\"\u001b[39m\u001b[38;5;124mEPSG:4326\u001b[39m\u001b[38;5;124m\"\u001b[39m)\n\u001b[1;32m     12\u001b[0m \u001b[38;5;66;03m# Perform the nearest spatial join\u001b[39;00m\n\u001b[0;32m---> 13\u001b[0m joined_gdf \u001b[38;5;241m=\u001b[39m \u001b[43mgpd\u001b[49m\u001b[38;5;241;43m.\u001b[39;49m\u001b[43msjoin_nearest\u001b[49m\u001b[43m(\u001b[49m\u001b[43mgdf_city_coords\u001b[49m\u001b[43m,\u001b[49m\u001b[43m \u001b[49m\u001b[43mgpd_cleaned_df\u001b[49m\u001b[43m,\u001b[49m\u001b[43m \u001b[49m\u001b[43mhow\u001b[49m\u001b[38;5;241;43m=\u001b[39;49m\u001b[38;5;124;43m\"\u001b[39;49m\u001b[38;5;124;43mleft\u001b[39;49m\u001b[38;5;124;43m\"\u001b[39;49m\u001b[43m)\u001b[49m\n",
      "File \u001b[0;32m~/repo/project-2-group-real-estate-industry-project-2/.venv/lib/python3.10/site-packages/geopandas/tools/sjoin.py:720\u001b[0m, in \u001b[0;36msjoin_nearest\u001b[0;34m(left_df, right_df, how, max_distance, lsuffix, rsuffix, distance_col, exclusive)\u001b[0m\n\u001b[1;32m    710\u001b[0m return_distance \u001b[38;5;241m=\u001b[39m distance_col \u001b[38;5;129;01mis\u001b[39;00m \u001b[38;5;129;01mnot\u001b[39;00m \u001b[38;5;28;01mNone\u001b[39;00m\n\u001b[1;32m    712\u001b[0m indices, distances \u001b[38;5;241m=\u001b[39m _nearest_query(\n\u001b[1;32m    713\u001b[0m     left_df,\n\u001b[1;32m    714\u001b[0m     right_df,\n\u001b[0;32m   (...)\u001b[0m\n\u001b[1;32m    718\u001b[0m     exclusive,\n\u001b[1;32m    719\u001b[0m )\n\u001b[0;32m--> 720\u001b[0m joined, distances \u001b[38;5;241m=\u001b[39m \u001b[43m_frame_join\u001b[49m\u001b[43m(\u001b[49m\n\u001b[1;32m    721\u001b[0m \u001b[43m    \u001b[49m\u001b[43mleft_df\u001b[49m\u001b[43m,\u001b[49m\n\u001b[1;32m    722\u001b[0m \u001b[43m    \u001b[49m\u001b[43mright_df\u001b[49m\u001b[43m,\u001b[49m\n\u001b[1;32m    723\u001b[0m \u001b[43m    \u001b[49m\u001b[43mindices\u001b[49m\u001b[43m,\u001b[49m\n\u001b[1;32m    724\u001b[0m \u001b[43m    \u001b[49m\u001b[43mdistances\u001b[49m\u001b[43m,\u001b[49m\n\u001b[1;32m    725\u001b[0m \u001b[43m    \u001b[49m\u001b[43mhow\u001b[49m\u001b[43m,\u001b[49m\n\u001b[1;32m    726\u001b[0m \u001b[43m    \u001b[49m\u001b[43mlsuffix\u001b[49m\u001b[43m,\u001b[49m\n\u001b[1;32m    727\u001b[0m \u001b[43m    \u001b[49m\u001b[43mrsuffix\u001b[49m\u001b[43m,\u001b[49m\n\u001b[1;32m    728\u001b[0m \u001b[43m    \u001b[49m\u001b[38;5;28;43;01mNone\u001b[39;49;00m\u001b[43m,\u001b[49m\n\u001b[1;32m    729\u001b[0m \u001b[43m\u001b[49m\u001b[43m)\u001b[49m\n\u001b[1;32m    731\u001b[0m \u001b[38;5;28;01mif\u001b[39;00m return_distance:\n\u001b[1;32m    732\u001b[0m     joined[distance_col] \u001b[38;5;241m=\u001b[39m distances\n",
      "File \u001b[0;32m~/repo/project-2-group-real-estate-industry-project-2/.venv/lib/python3.10/site-packages/geopandas/tools/sjoin.py:469\u001b[0m, in \u001b[0;36m_frame_join\u001b[0;34m(left_df, right_df, indices, distances, how, lsuffix, rsuffix, predicate, on_attribute)\u001b[0m\n\u001b[1;32m    467\u001b[0m right_nlevels \u001b[38;5;241m=\u001b[39m right_df\u001b[38;5;241m.\u001b[39mindex\u001b[38;5;241m.\u001b[39mnlevels\n\u001b[1;32m    468\u001b[0m right_index_original \u001b[38;5;241m=\u001b[39m right_df\u001b[38;5;241m.\u001b[39mindex\u001b[38;5;241m.\u001b[39mnames\n\u001b[0;32m--> 469\u001b[0m right_df, right_column_names \u001b[38;5;241m=\u001b[39m \u001b[43m_reset_index_with_suffix\u001b[49m\u001b[43m(\u001b[49m\u001b[43mright_df\u001b[49m\u001b[43m,\u001b[49m\u001b[43m \u001b[49m\u001b[43mrsuffix\u001b[49m\u001b[43m,\u001b[49m\u001b[43m \u001b[49m\u001b[43mleft_df\u001b[49m\u001b[43m)\u001b[49m\n\u001b[1;32m    471\u001b[0m \u001b[38;5;66;03m# if conflicting names in left and right, add suffix\u001b[39;00m\n\u001b[1;32m    472\u001b[0m left_column_names, right_column_names \u001b[38;5;241m=\u001b[39m _process_column_names_with_suffix(\n\u001b[1;32m    473\u001b[0m     left_column_names,\n\u001b[1;32m    474\u001b[0m     right_column_names,\n\u001b[0;32m   (...)\u001b[0m\n\u001b[1;32m    477\u001b[0m     right_df,\n\u001b[1;32m    478\u001b[0m )\n",
      "File \u001b[0;32m~/repo/project-2-group-real-estate-industry-project-2/.venv/lib/python3.10/site-packages/geopandas/tools/sjoin.py:288\u001b[0m, in \u001b[0;36m_reset_index_with_suffix\u001b[0;34m(df, suffix, other)\u001b[0m\n\u001b[1;32m    286\u001b[0m         \u001b[38;5;66;03m# check new label will not be in other dataframe\u001b[39;00m\n\u001b[1;32m    287\u001b[0m         \u001b[38;5;28;01mif\u001b[39;00m new_label \u001b[38;5;129;01min\u001b[39;00m df\u001b[38;5;241m.\u001b[39mcolumns \u001b[38;5;129;01mor\u001b[39;00m new_label \u001b[38;5;129;01min\u001b[39;00m other\u001b[38;5;241m.\u001b[39mcolumns:\n\u001b[0;32m--> 288\u001b[0m             \u001b[38;5;28;01mraise\u001b[39;00m \u001b[38;5;167;01mValueError\u001b[39;00m(\n\u001b[1;32m    289\u001b[0m                 \u001b[38;5;124m\"\u001b[39m\u001b[38;5;124m'\u001b[39m\u001b[38;5;132;01m{0}\u001b[39;00m\u001b[38;5;124m'\u001b[39m\u001b[38;5;124m cannot be a column name in the frames being\u001b[39m\u001b[38;5;124m\"\u001b[39m\n\u001b[1;32m    290\u001b[0m                 \u001b[38;5;124m\"\u001b[39m\u001b[38;5;124m joined\u001b[39m\u001b[38;5;124m\"\u001b[39m\u001b[38;5;241m.\u001b[39mformat(new_label)\n\u001b[1;32m    291\u001b[0m             )\n\u001b[1;32m    292\u001b[0m         column_names[i] \u001b[38;5;241m=\u001b[39m new_label\n\u001b[1;32m    293\u001b[0m \u001b[38;5;28;01mreturn\u001b[39;00m df_reset, pd\u001b[38;5;241m.\u001b[39mIndex(column_names)\n",
      "\u001b[0;31mValueError\u001b[0m: 'index_right' cannot be a column name in the frames being joined"
     ]
    }
   ],
   "source": [
    "import pandas as pd\n",
    "import geopandas as gpd\n",
    "from shapely.geometry import Point\n",
    "city_coords = pd.read_csv(f\"../data/raw/time_city.csv\")\n",
    "gdf_city_coords = gpd.GeoDataFrame(city_coords, geometry=gpd.points_from_xy(city_coords.lng, city_coords.lat))\n",
    "gpd_cleaned_df = gpd.GeoDataFrame(cleaned_df, geometry=gpd.points_from_xy(cleaned_df.lng, cleaned_df.lat))\n",
    "\n",
    "# Ensure both GeoDataFrames have the same CRS (Coordinate Reference System)\n",
    "gdf_city_coords = gdf_city_coords.set_crs(\"EPSG:4326\")\n",
    "gpd_cleaned_df = gpd_cleaned_df.set_crs(\"EPSG:4326\")\n",
    "\n",
    "# Perform the nearest spatial join\n",
    "joined_gdf = gpd.sjoin_nearest(gpd_cleaned_df,gdf_city_coords[['geometry','time_city']], how=\"left\",rsuffix='city_coords')\n",
    "joined_gdf.drop(columns=['index_city_coords'],inplace=True)\n"
   ]
  },
  {
   "cell_type": "code",
   "execution_count": 94,
   "metadata": {},
   "outputs": [
    {
     "data": {
      "text/html": [
       "<div>\n",
       "<style scoped>\n",
       "    .dataframe tbody tr th:only-of-type {\n",
       "        vertical-align: middle;\n",
       "    }\n",
       "\n",
       "    .dataframe tbody tr th {\n",
       "        vertical-align: top;\n",
       "    }\n",
       "\n",
       "    .dataframe thead th {\n",
       "        text-align: right;\n",
       "    }\n",
       "</style>\n",
       "<table border=\"1\" class=\"dataframe\">\n",
       "  <thead>\n",
       "    <tr style=\"text-align: right;\">\n",
       "      <th></th>\n",
       "      <th>lat</th>\n",
       "      <th>lng</th>\n",
       "      <th>address</th>\n",
       "      <th>bed</th>\n",
       "      <th>bath</th>\n",
       "      <th>car</th>\n",
       "      <th>type</th>\n",
       "      <th>rented_price</th>\n",
       "      <th>date</th>\n",
       "      <th>year</th>\n",
       "      <th>geometry</th>\n",
       "      <th>sa2_code_left</th>\n",
       "      <th>region</th>\n",
       "      <th>median_income</th>\n",
       "      <th>index_right</th>\n",
       "      <th>sa2_code_right</th>\n",
       "      <th>sa2_name</th>\n",
       "      <th>population</th>\n",
       "      <th>cpi</th>\n",
       "      <th>unemployment_rate</th>\n",
       "    </tr>\n",
       "  </thead>\n",
       "  <tbody>\n",
       "    <tr>\n",
       "      <th>0</th>\n",
       "      <td>-37.813730</td>\n",
       "      <td>144.955580</td>\n",
       "      <td>201/560 LONSDALE STREET, MELBOURNE</td>\n",
       "      <td>2.0</td>\n",
       "      <td>2.0</td>\n",
       "      <td>1.0</td>\n",
       "      <td>Unit/apmt</td>\n",
       "      <td>800</td>\n",
       "      <td>2023-08-01</td>\n",
       "      <td>2023</td>\n",
       "      <td>POINT (144.95558 -37.81373)</td>\n",
       "      <td>206041505.0</td>\n",
       "      <td>Melbourne CBD - West</td>\n",
       "      <td>43780.105621</td>\n",
       "      <td>11621.0</td>\n",
       "      <td>206041505.0</td>\n",
       "      <td>Melbourne CBD - West</td>\n",
       "      <td>20027.0</td>\n",
       "      <td>4.1</td>\n",
       "      <td>3.691667</td>\n",
       "    </tr>\n",
       "    <tr>\n",
       "      <th>1</th>\n",
       "      <td>-37.813730</td>\n",
       "      <td>144.955580</td>\n",
       "      <td>201/560 LONSDALE STREET, MELBOURNE</td>\n",
       "      <td>2.0</td>\n",
       "      <td>2.0</td>\n",
       "      <td>1.0</td>\n",
       "      <td>Unit/apmt</td>\n",
       "      <td>800</td>\n",
       "      <td>2023-07-01</td>\n",
       "      <td>2023</td>\n",
       "      <td>POINT (144.95558 -37.81373)</td>\n",
       "      <td>206041505.0</td>\n",
       "      <td>Melbourne CBD - West</td>\n",
       "      <td>43780.105621</td>\n",
       "      <td>11621.0</td>\n",
       "      <td>206041505.0</td>\n",
       "      <td>Melbourne CBD - West</td>\n",
       "      <td>20027.0</td>\n",
       "      <td>4.1</td>\n",
       "      <td>3.691667</td>\n",
       "    </tr>\n",
       "    <tr>\n",
       "      <th>2</th>\n",
       "      <td>-37.813730</td>\n",
       "      <td>144.955580</td>\n",
       "      <td>201/560 LONSDALE STREET, MELBOURNE</td>\n",
       "      <td>2.0</td>\n",
       "      <td>2.0</td>\n",
       "      <td>1.0</td>\n",
       "      <td>Unit/apmt</td>\n",
       "      <td>540</td>\n",
       "      <td>2021-08-01</td>\n",
       "      <td>2021</td>\n",
       "      <td>POINT (144.95558 -37.81373)</td>\n",
       "      <td>206041505.0</td>\n",
       "      <td>Melbourne CBD - West</td>\n",
       "      <td>39300.000000</td>\n",
       "      <td>10577.0</td>\n",
       "      <td>206041505.0</td>\n",
       "      <td>Melbourne CBD - West</td>\n",
       "      <td>16098.0</td>\n",
       "      <td>3.5</td>\n",
       "      <td>4.200000</td>\n",
       "    </tr>\n",
       "    <tr>\n",
       "      <th>3</th>\n",
       "      <td>-37.813730</td>\n",
       "      <td>144.955580</td>\n",
       "      <td>1702/560 LONSDALE STREET, MELBOURNE</td>\n",
       "      <td>2.0</td>\n",
       "      <td>1.0</td>\n",
       "      <td>0.0</td>\n",
       "      <td>Unit/apmt</td>\n",
       "      <td>720</td>\n",
       "      <td>2023-08-01</td>\n",
       "      <td>2023</td>\n",
       "      <td>POINT (144.95558 -37.81373)</td>\n",
       "      <td>206041505.0</td>\n",
       "      <td>Melbourne CBD - West</td>\n",
       "      <td>43780.105621</td>\n",
       "      <td>11621.0</td>\n",
       "      <td>206041505.0</td>\n",
       "      <td>Melbourne CBD - West</td>\n",
       "      <td>20027.0</td>\n",
       "      <td>4.1</td>\n",
       "      <td>3.691667</td>\n",
       "    </tr>\n",
       "    <tr>\n",
       "      <th>4</th>\n",
       "      <td>-37.813730</td>\n",
       "      <td>144.955580</td>\n",
       "      <td>1702/560 LONSDALE STREET, MELBOURNE</td>\n",
       "      <td>2.0</td>\n",
       "      <td>1.0</td>\n",
       "      <td>0.0</td>\n",
       "      <td>Unit/apmt</td>\n",
       "      <td>650</td>\n",
       "      <td>2023-06-01</td>\n",
       "      <td>2023</td>\n",
       "      <td>POINT (144.95558 -37.81373)</td>\n",
       "      <td>206041505.0</td>\n",
       "      <td>Melbourne CBD - West</td>\n",
       "      <td>43780.105621</td>\n",
       "      <td>11621.0</td>\n",
       "      <td>206041505.0</td>\n",
       "      <td>Melbourne CBD - West</td>\n",
       "      <td>20027.0</td>\n",
       "      <td>4.1</td>\n",
       "      <td>3.691667</td>\n",
       "    </tr>\n",
       "    <tr>\n",
       "      <th>...</th>\n",
       "      <td>...</td>\n",
       "      <td>...</td>\n",
       "      <td>...</td>\n",
       "      <td>...</td>\n",
       "      <td>...</td>\n",
       "      <td>...</td>\n",
       "      <td>...</td>\n",
       "      <td>...</td>\n",
       "      <td>...</td>\n",
       "      <td>...</td>\n",
       "      <td>...</td>\n",
       "      <td>...</td>\n",
       "      <td>...</td>\n",
       "      <td>...</td>\n",
       "      <td>...</td>\n",
       "      <td>...</td>\n",
       "      <td>...</td>\n",
       "      <td>...</td>\n",
       "      <td>...</td>\n",
       "      <td>...</td>\n",
       "    </tr>\n",
       "    <tr>\n",
       "      <th>1531551</th>\n",
       "      <td>-37.883631</td>\n",
       "      <td>144.732710</td>\n",
       "      <td>96 BOARDWALK BOULEVARD, POINT COOK</td>\n",
       "      <td>3.0</td>\n",
       "      <td>2.0</td>\n",
       "      <td>2.0</td>\n",
       "      <td>Unit/apmt</td>\n",
       "      <td>370</td>\n",
       "      <td>2019-09-01</td>\n",
       "      <td>2019</td>\n",
       "      <td>POINT (144.73271 -37.88363)</td>\n",
       "      <td>213051581.0</td>\n",
       "      <td>Point Cook - North West</td>\n",
       "      <td>57433.000000</td>\n",
       "      <td>9841.0</td>\n",
       "      <td>213051581.0</td>\n",
       "      <td>Point Cook - North West</td>\n",
       "      <td>9739.0</td>\n",
       "      <td>1.8</td>\n",
       "      <td>5.175000</td>\n",
       "    </tr>\n",
       "    <tr>\n",
       "      <th>1531552</th>\n",
       "      <td>-37.883631</td>\n",
       "      <td>144.732710</td>\n",
       "      <td>96 BOARDWALK BOULEVARD, POINT COOK</td>\n",
       "      <td>3.0</td>\n",
       "      <td>2.0</td>\n",
       "      <td>2.0</td>\n",
       "      <td>Unit/apmt</td>\n",
       "      <td>370</td>\n",
       "      <td>2019-08-01</td>\n",
       "      <td>2019</td>\n",
       "      <td>POINT (144.73271 -37.88363)</td>\n",
       "      <td>213051581.0</td>\n",
       "      <td>Point Cook - North West</td>\n",
       "      <td>57433.000000</td>\n",
       "      <td>9841.0</td>\n",
       "      <td>213051581.0</td>\n",
       "      <td>Point Cook - North West</td>\n",
       "      <td>9739.0</td>\n",
       "      <td>1.8</td>\n",
       "      <td>5.175000</td>\n",
       "    </tr>\n",
       "    <tr>\n",
       "      <th>1531553</th>\n",
       "      <td>-37.883631</td>\n",
       "      <td>144.732710</td>\n",
       "      <td>96 BOARDWALK BOULEVARD, POINT COOK</td>\n",
       "      <td>3.0</td>\n",
       "      <td>2.0</td>\n",
       "      <td>2.0</td>\n",
       "      <td>Unit/apmt</td>\n",
       "      <td>370</td>\n",
       "      <td>2019-07-01</td>\n",
       "      <td>2019</td>\n",
       "      <td>POINT (144.73271 -37.88363)</td>\n",
       "      <td>213051581.0</td>\n",
       "      <td>Point Cook - North West</td>\n",
       "      <td>57433.000000</td>\n",
       "      <td>9841.0</td>\n",
       "      <td>213051581.0</td>\n",
       "      <td>Point Cook - North West</td>\n",
       "      <td>9739.0</td>\n",
       "      <td>1.8</td>\n",
       "      <td>5.175000</td>\n",
       "    </tr>\n",
       "    <tr>\n",
       "      <th>1531554</th>\n",
       "      <td>-37.883631</td>\n",
       "      <td>144.732710</td>\n",
       "      <td>96 BOARDWALK BOULEVARD, POINT COOK</td>\n",
       "      <td>3.0</td>\n",
       "      <td>2.0</td>\n",
       "      <td>2.0</td>\n",
       "      <td>Unit/apmt</td>\n",
       "      <td>365</td>\n",
       "      <td>2018-06-01</td>\n",
       "      <td>2018</td>\n",
       "      <td>POINT (144.73271 -37.88363)</td>\n",
       "      <td>213051581.0</td>\n",
       "      <td>Point Cook - North West</td>\n",
       "      <td>57001.000000</td>\n",
       "      <td>9319.0</td>\n",
       "      <td>213051581.0</td>\n",
       "      <td>Point Cook - North West</td>\n",
       "      <td>9678.0</td>\n",
       "      <td>1.8</td>\n",
       "      <td>5.283333</td>\n",
       "    </tr>\n",
       "    <tr>\n",
       "      <th>1531555</th>\n",
       "      <td>-37.895171</td>\n",
       "      <td>144.759854</td>\n",
       "      <td>53 BROADBEACH CIRCUIT, POINT COOK</td>\n",
       "      <td>4.0</td>\n",
       "      <td>2.0</td>\n",
       "      <td>2.0</td>\n",
       "      <td>Townhouse</td>\n",
       "      <td>420</td>\n",
       "      <td>2019-09-01</td>\n",
       "      <td>2019</td>\n",
       "      <td>POINT (144.75985 -37.89517)</td>\n",
       "      <td>213051464.0</td>\n",
       "      <td>Point Cook - East</td>\n",
       "      <td>54778.000000</td>\n",
       "      <td>9835.0</td>\n",
       "      <td>213051464.0</td>\n",
       "      <td>Point Cook - East</td>\n",
       "      <td>17894.0</td>\n",
       "      <td>1.8</td>\n",
       "      <td>5.175000</td>\n",
       "    </tr>\n",
       "  </tbody>\n",
       "</table>\n",
       "<p>1531556 rows × 20 columns</p>\n",
       "</div>"
      ],
      "text/plain": [
       "               lat         lng                              address  bed  \\\n",
       "0       -37.813730  144.955580   201/560 LONSDALE STREET, MELBOURNE  2.0   \n",
       "1       -37.813730  144.955580   201/560 LONSDALE STREET, MELBOURNE  2.0   \n",
       "2       -37.813730  144.955580   201/560 LONSDALE STREET, MELBOURNE  2.0   \n",
       "3       -37.813730  144.955580  1702/560 LONSDALE STREET, MELBOURNE  2.0   \n",
       "4       -37.813730  144.955580  1702/560 LONSDALE STREET, MELBOURNE  2.0   \n",
       "...            ...         ...                                  ...  ...   \n",
       "1531551 -37.883631  144.732710   96 BOARDWALK BOULEVARD, POINT COOK  3.0   \n",
       "1531552 -37.883631  144.732710   96 BOARDWALK BOULEVARD, POINT COOK  3.0   \n",
       "1531553 -37.883631  144.732710   96 BOARDWALK BOULEVARD, POINT COOK  3.0   \n",
       "1531554 -37.883631  144.732710   96 BOARDWALK BOULEVARD, POINT COOK  3.0   \n",
       "1531555 -37.895171  144.759854    53 BROADBEACH CIRCUIT, POINT COOK  4.0   \n",
       "\n",
       "         bath  car       type  rented_price        date  year  \\\n",
       "0         2.0  1.0  Unit/apmt           800  2023-08-01  2023   \n",
       "1         2.0  1.0  Unit/apmt           800  2023-07-01  2023   \n",
       "2         2.0  1.0  Unit/apmt           540  2021-08-01  2021   \n",
       "3         1.0  0.0  Unit/apmt           720  2023-08-01  2023   \n",
       "4         1.0  0.0  Unit/apmt           650  2023-06-01  2023   \n",
       "...       ...  ...        ...           ...         ...   ...   \n",
       "1531551   2.0  2.0  Unit/apmt           370  2019-09-01  2019   \n",
       "1531552   2.0  2.0  Unit/apmt           370  2019-08-01  2019   \n",
       "1531553   2.0  2.0  Unit/apmt           370  2019-07-01  2019   \n",
       "1531554   2.0  2.0  Unit/apmt           365  2018-06-01  2018   \n",
       "1531555   2.0  2.0  Townhouse           420  2019-09-01  2019   \n",
       "\n",
       "                            geometry  sa2_code_left                   region  \\\n",
       "0        POINT (144.95558 -37.81373)    206041505.0     Melbourne CBD - West   \n",
       "1        POINT (144.95558 -37.81373)    206041505.0     Melbourne CBD - West   \n",
       "2        POINT (144.95558 -37.81373)    206041505.0     Melbourne CBD - West   \n",
       "3        POINT (144.95558 -37.81373)    206041505.0     Melbourne CBD - West   \n",
       "4        POINT (144.95558 -37.81373)    206041505.0     Melbourne CBD - West   \n",
       "...                              ...            ...                      ...   \n",
       "1531551  POINT (144.73271 -37.88363)    213051581.0  Point Cook - North West   \n",
       "1531552  POINT (144.73271 -37.88363)    213051581.0  Point Cook - North West   \n",
       "1531553  POINT (144.73271 -37.88363)    213051581.0  Point Cook - North West   \n",
       "1531554  POINT (144.73271 -37.88363)    213051581.0  Point Cook - North West   \n",
       "1531555  POINT (144.75985 -37.89517)    213051464.0        Point Cook - East   \n",
       "\n",
       "         median_income  index_right  sa2_code_right                 sa2_name  \\\n",
       "0         43780.105621      11621.0     206041505.0     Melbourne CBD - West   \n",
       "1         43780.105621      11621.0     206041505.0     Melbourne CBD - West   \n",
       "2         39300.000000      10577.0     206041505.0     Melbourne CBD - West   \n",
       "3         43780.105621      11621.0     206041505.0     Melbourne CBD - West   \n",
       "4         43780.105621      11621.0     206041505.0     Melbourne CBD - West   \n",
       "...                ...          ...             ...                      ...   \n",
       "1531551   57433.000000       9841.0     213051581.0  Point Cook - North West   \n",
       "1531552   57433.000000       9841.0     213051581.0  Point Cook - North West   \n",
       "1531553   57433.000000       9841.0     213051581.0  Point Cook - North West   \n",
       "1531554   57001.000000       9319.0     213051581.0  Point Cook - North West   \n",
       "1531555   54778.000000       9835.0     213051464.0        Point Cook - East   \n",
       "\n",
       "         population  cpi  unemployment_rate  \n",
       "0           20027.0  4.1           3.691667  \n",
       "1           20027.0  4.1           3.691667  \n",
       "2           16098.0  3.5           4.200000  \n",
       "3           20027.0  4.1           3.691667  \n",
       "4           20027.0  4.1           3.691667  \n",
       "...             ...  ...                ...  \n",
       "1531551      9739.0  1.8           5.175000  \n",
       "1531552      9739.0  1.8           5.175000  \n",
       "1531553      9739.0  1.8           5.175000  \n",
       "1531554      9678.0  1.8           5.283333  \n",
       "1531555     17894.0  1.8           5.175000  \n",
       "\n",
       "[1531556 rows x 20 columns]"
      ]
     },
     "execution_count": 94,
     "metadata": {},
     "output_type": "execute_result"
    }
   ],
   "source": [
    "gpd_cleaned_df\n"
   ]
  },
  {
   "cell_type": "code",
   "execution_count": 32,
   "metadata": {},
   "outputs": [
    {
     "data": {
      "text/plain": [
       "lat                                    float64\n",
       "lng                                    float64\n",
       "address                                 object\n",
       "bed                                    float64\n",
       "bath                                   float64\n",
       "car                                    float64\n",
       "type                                    object\n",
       "rented_price                             int64\n",
       "date                                    object\n",
       "year                                     int64\n",
       "geometry                                object\n",
       "sa2_code                                 int64\n",
       "region                                  object\n",
       "median_income                          float64\n",
       "population                               int64\n",
       "Statistical Areas Level 2 2021 name     object\n",
       "cpi_x                                  float64\n",
       "cpi_y                                  float64\n",
       "unemployment_rate                      float64\n",
       "dtype: object"
      ]
     },
     "execution_count": 32,
     "metadata": {},
     "output_type": "execute_result"
    }
   ],
   "source": [
    "cleaned_df.dtypes"
   ]
  }
 ],
 "metadata": {
  "kernelspec": {
   "display_name": ".venv",
   "language": "python",
   "name": "python3"
  },
  "language_info": {
   "codemirror_mode": {
    "name": "ipython",
    "version": 3
   },
   "file_extension": ".py",
   "mimetype": "text/x-python",
   "name": "python",
   "nbconvert_exporter": "python",
   "pygments_lexer": "ipython3",
   "version": "3.10.12"
  }
 },
 "nbformat": 4,
 "nbformat_minor": 2
}
