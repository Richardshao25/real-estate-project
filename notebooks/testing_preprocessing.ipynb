{
 "cells": [
  {
   "cell_type": "code",
   "execution_count": 1,
   "metadata": {},
   "outputs": [],
   "source": [
    "\n",
    "import pandas as pd\n",
    "import numpy as np\n",
    "import re\n",
    "import os\n",
    "import glob\n",
    "import bs4\n",
    "import re\n",
    "import sys\n",
    "sys.path.append(\"../\")\n",
    "from scripts.oldlistings import get_oldlistings_page\n",
    "import json\n",
    "from tqdm import tqdm"
   ]
  },
  {
   "cell_type": "code",
   "execution_count": 2,
   "metadata": {},
   "outputs": [],
   "source": [
    "import pandas as pd\n",
    "import re\n",
    "import numpy as np\n",
    "\n",
    "def process_df(data_df):\n",
    "    def find_meta(xs, label, default=None, conversion=lambda x: x):\n",
    "        for x in xs:\n",
    "            if x['label'] == label:\n",
    "                return conversion(x['quantity'])\n",
    "        return default\n",
    "\n",
    "    pattern1 = r\"\\$(\\d+)\\s*(per week|pw)\"\n",
    "    pattern2 = r\"\\$(\\d{3,4})\"\n",
    "    pattern3 = r\"(\\d{3,4})\"\n",
    "\n",
    "    data = data_df\n",
    "    \n",
    "    # extract rented prices to multiple rows\n",
    "    pdf2 = pd.DataFrame(data['rented_prices'].to_list(), index=data.index).stack()\n",
    "    pdf2 = pdf2.reset_index()\n",
    "    pdf2.rename(columns={'level_0': 'index', 0: 'rented_price_dict'}, inplace=True)\n",
    "    pdf2.drop(columns='level_1', inplace=True)\n",
    "    pdf = pdf2.join(data, on='index', how='left')\n",
    "    \n",
    "    # meta data\n",
    "    pdf['bed'] = pdf['meta_data'].apply(lambda xs: find_meta(xs, 'bed', 0, lambda x: float(x)))\n",
    "    pdf['bath'] = pdf['meta_data'].apply(lambda xs: find_meta(xs, 'bath', 0, lambda x: float(x)))\n",
    "    pdf['car'] = pdf['meta_data'].apply(lambda xs: find_meta(xs, 'car', 0, lambda x: float(x)))\n",
    "    pdf['land'] = pdf['meta_data'].apply(lambda xs: find_meta(xs, 'land', np.nan, lambda x: str(x)))\n",
    "    pdf['type'] = pdf['meta_data'].apply(lambda xs: find_meta(xs, 'type', \"Unit/apmt\"))\n",
    "    \n",
    "    pdf.drop(columns=['meta_data', 'rented_prices', 'index'], inplace=True)\n",
    "\n",
    "    # Extract rented price to multiple columns using nested if-else (lambda with ternary conditions)\n",
    "    pdf[\"rented_price\"] = pdf[\"rented_price_dict\"].apply(\n",
    "        lambda x: re.search(pattern1, x['price']).group(1) if re.search(pattern1, x['price']) \n",
    "        else (re.search(pattern2, x['price']).group(0) if re.search(pattern2, x['price']) \n",
    "        else re.search(pattern3, x['price']).group(0) if re.search(pattern3, x['price']) else np.nan)\n",
    "    )\n",
    "    \n",
    "    pdf[\"date\"] = pdf[\"rented_price_dict\"].apply(lambda x: x['date'])\n",
    "    #pdf[\"date\"] = pdf[\"date\"].apply(lambda x: pd.to_datetime(x))\n",
    "    \n",
    "    return pdf\n"
   ]
  },
  {
   "cell_type": "code",
   "execution_count": 3,
   "metadata": {},
   "outputs": [],
   "source": [
    "data_list = []\n",
    "for i in range(1,6):\n",
    "    template = f\"../data/landing/oldlistings_rent_{i}.json\"\n",
    "    data_list.append(template)\n",
    "    "
   ]
  },
  {
   "cell_type": "code",
   "execution_count": 6,
   "metadata": {},
   "outputs": [
    {
     "name": "stdout",
     "output_type": "stream",
     "text": [
      "['bed']\n",
      "['bed', 'bath']\n",
      "['bed', 'bath', 'car']\n",
      "['bed', 'bath', 'car', 'land']\n",
      "['bed', 'bath', 'car', 'land', 'type']\n",
      "['bed']\n",
      "['bed', 'bath']\n",
      "['bed', 'bath', 'car']\n",
      "['bed', 'bath', 'car', 'land']\n",
      "['bed', 'bath', 'car', 'land', 'type']\n",
      "['bed']\n",
      "['bed', 'bath']\n",
      "['bed', 'bath', 'car']\n",
      "['bed', 'bath', 'car', 'type']\n",
      "['bed', 'bath', 'car', 'type', 'land']\n",
      "['bed']\n",
      "['bed', 'bath']\n",
      "['bed', 'bath', 'car']\n",
      "['bed', 'bath', 'car', 'type']\n",
      "['bed', 'bath', 'car', 'type', 'land']\n",
      "['bed']\n",
      "['bed', 'bath']\n",
      "['bed', 'bath', 'car']\n",
      "['bed', 'bath', 'car', 'type']\n",
      "['bed', 'bath', 'car', 'type', 'land']\n"
     ]
    }
   ],
   "source": [
    "for k in data_list:\n",
    "    data = pd.read_json(k)\n",
    "    labels = []\n",
    "    for i in range(len(data)):\n",
    "        for j in data.iloc[i][\"meta_data\"]:\n",
    "            if j[\"label\"] not in labels:\n",
    "                labels.append(j[\"label\"])\n",
    "                print(labels)\n",
    "\n"
   ]
  },
  {
   "cell_type": "markdown",
   "metadata": {},
   "source": [
    "Merge all datasets into one dataset\n"
   ]
  },
  {
   "cell_type": "code",
   "execution_count": 6,
   "metadata": {},
   "outputs": [
    {
     "data": {
      "text/plain": [
       "['../data/landing/oldlistings_rent_1.json',\n",
       " '../data/landing/oldlistings_rent_2.json',\n",
       " '../data/landing/oldlistings_rent_3.json',\n",
       " '../data/landing/oldlistings_rent_4.json',\n",
       " '../data/landing/oldlistings_rent_5.json']"
      ]
     },
     "execution_count": 6,
     "metadata": {},
     "output_type": "execute_result"
    }
   ],
   "source": [
    "data_list"
   ]
  },
  {
   "cell_type": "code",
   "execution_count": 7,
   "metadata": {},
   "outputs": [],
   "source": [
    "rental_df = pd.DataFrame()\n",
    "for i in range(1,len(data_list)):\n",
    "    data = pd.read_json(data_list[i])\n",
    "    rental_df_x = process_df(data)\n",
    "    rental_df = pd.concat([rental_df,rental_df_x],axis=0)\n",
    "\n",
    "\n"
   ]
  },
  {
   "cell_type": "code",
   "execution_count": 8,
   "metadata": {},
   "outputs": [
    {
     "data": {
      "text/html": [
       "<div>\n",
       "<style scoped>\n",
       "    .dataframe tbody tr th:only-of-type {\n",
       "        vertical-align: middle;\n",
       "    }\n",
       "\n",
       "    .dataframe tbody tr th {\n",
       "        vertical-align: top;\n",
       "    }\n",
       "\n",
       "    .dataframe thead th {\n",
       "        text-align: right;\n",
       "    }\n",
       "</style>\n",
       "<table border=\"1\" class=\"dataframe\">\n",
       "  <thead>\n",
       "    <tr style=\"text-align: right;\">\n",
       "      <th></th>\n",
       "      <th>rented_price_dict</th>\n",
       "      <th>lat</th>\n",
       "      <th>lng</th>\n",
       "      <th>address</th>\n",
       "      <th>bed</th>\n",
       "      <th>bath</th>\n",
       "      <th>car</th>\n",
       "      <th>land</th>\n",
       "      <th>type</th>\n",
       "      <th>rented_price</th>\n",
       "      <th>date</th>\n",
       "    </tr>\n",
       "  </thead>\n",
       "  <tbody>\n",
       "    <tr>\n",
       "      <th>492</th>\n",
       "      <td>{'date': 'January 2013', 'price': 'To Let'}</td>\n",
       "      <td>-37.758123</td>\n",
       "      <td>145.039918</td>\n",
       "      <td>2 WADHAM ROAD, IVANHOE</td>\n",
       "      <td>3.0</td>\n",
       "      <td>2.0</td>\n",
       "      <td>1.0</td>\n",
       "      <td>NaN</td>\n",
       "      <td>Unit/apmt</td>\n",
       "      <td>NaN</td>\n",
       "      <td>January 2013</td>\n",
       "    </tr>\n",
       "    <tr>\n",
       "      <th>587</th>\n",
       "      <td>{'date': 'June 2022', 'price': 'Contact'}</td>\n",
       "      <td>-37.820031</td>\n",
       "      <td>144.941545</td>\n",
       "      <td>302/9 WATERSIDE PLACE, DOCKLANDS</td>\n",
       "      <td>2.0</td>\n",
       "      <td>2.0</td>\n",
       "      <td>1.0</td>\n",
       "      <td>NaN</td>\n",
       "      <td>Unit/apmt</td>\n",
       "      <td>NaN</td>\n",
       "      <td>June 2022</td>\n",
       "    </tr>\n",
       "    <tr>\n",
       "      <th>645</th>\n",
       "      <td>{'date': 'February 2015', 'price': 'per week'}</td>\n",
       "      <td>-37.814966</td>\n",
       "      <td>144.946041</td>\n",
       "      <td>8 MARMION PLACE, DOCKLANDS</td>\n",
       "      <td>2.0</td>\n",
       "      <td>1.0</td>\n",
       "      <td>1.0</td>\n",
       "      <td>NaN</td>\n",
       "      <td>Rental_residential</td>\n",
       "      <td>NaN</td>\n",
       "      <td>February 2015</td>\n",
       "    </tr>\n",
       "    <tr>\n",
       "      <th>735</th>\n",
       "      <td>{'date': 'August 2017', 'price': 'Please Call'}</td>\n",
       "      <td>-37.823697</td>\n",
       "      <td>144.941350</td>\n",
       "      <td>1005/1 POINT PARK CRES, DOCKLANDS</td>\n",
       "      <td>1.0</td>\n",
       "      <td>1.0</td>\n",
       "      <td>0.0</td>\n",
       "      <td>NaN</td>\n",
       "      <td>Unit/apmt</td>\n",
       "      <td>NaN</td>\n",
       "      <td>August 2017</td>\n",
       "    </tr>\n",
       "    <tr>\n",
       "      <th>895</th>\n",
       "      <td>{'date': 'February 2018', 'price': 'Contact'}</td>\n",
       "      <td>-38.049413</td>\n",
       "      <td>145.369865</td>\n",
       "      <td>10 HORNER STREET, BEACONSFIELD</td>\n",
       "      <td>3.0</td>\n",
       "      <td>1.0</td>\n",
       "      <td>1.0</td>\n",
       "      <td>NaN</td>\n",
       "      <td>House</td>\n",
       "      <td>NaN</td>\n",
       "      <td>February 2018</td>\n",
       "    </tr>\n",
       "    <tr>\n",
       "      <th>...</th>\n",
       "      <td>...</td>\n",
       "      <td>...</td>\n",
       "      <td>...</td>\n",
       "      <td>...</td>\n",
       "      <td>...</td>\n",
       "      <td>...</td>\n",
       "      <td>...</td>\n",
       "      <td>...</td>\n",
       "      <td>...</td>\n",
       "      <td>...</td>\n",
       "      <td>...</td>\n",
       "    </tr>\n",
       "    <tr>\n",
       "      <th>883310</th>\n",
       "      <td>{'date': 'December 2019', 'price': 'Price on a...</td>\n",
       "      <td>-37.809413</td>\n",
       "      <td>144.959680</td>\n",
       "      <td>2013/120 A'BECKETT STREET, MELBOURNE</td>\n",
       "      <td>1.0</td>\n",
       "      <td>1.0</td>\n",
       "      <td>0.0</td>\n",
       "      <td>NaN</td>\n",
       "      <td>Unit/apmt</td>\n",
       "      <td>NaN</td>\n",
       "      <td>December 2019</td>\n",
       "    </tr>\n",
       "    <tr>\n",
       "      <th>883311</th>\n",
       "      <td>{'date': 'February 2017', 'price': 'Enquiries ...</td>\n",
       "      <td>-37.809413</td>\n",
       "      <td>144.959680</td>\n",
       "      <td>2013/120 A'BECKETT STREET, MELBOURNE</td>\n",
       "      <td>1.0</td>\n",
       "      <td>1.0</td>\n",
       "      <td>0.0</td>\n",
       "      <td>NaN</td>\n",
       "      <td>Unit/apmt</td>\n",
       "      <td>NaN</td>\n",
       "      <td>February 2017</td>\n",
       "    </tr>\n",
       "    <tr>\n",
       "      <th>883337</th>\n",
       "      <td>{'date': 'December 2016', 'price': 'per week'}</td>\n",
       "      <td>-37.820366</td>\n",
       "      <td>144.955971</td>\n",
       "      <td>2405/8 DOWNIE STREET, MELBOURNE</td>\n",
       "      <td>2.0</td>\n",
       "      <td>2.0</td>\n",
       "      <td>1.0</td>\n",
       "      <td>NaN</td>\n",
       "      <td>Unit/apmt</td>\n",
       "      <td>NaN</td>\n",
       "      <td>December 2016</td>\n",
       "    </tr>\n",
       "    <tr>\n",
       "      <th>883357</th>\n",
       "      <td>{'date': 'January 2021', 'price': '$45'}</td>\n",
       "      <td>-37.809297</td>\n",
       "      <td>144.959808</td>\n",
       "      <td>120 A'BECKETT STREET, MELBOURNE</td>\n",
       "      <td>2.0</td>\n",
       "      <td>2.0</td>\n",
       "      <td>1.0</td>\n",
       "      <td>NaN</td>\n",
       "      <td>Unit/apmt</td>\n",
       "      <td>NaN</td>\n",
       "      <td>January 2021</td>\n",
       "    </tr>\n",
       "    <tr>\n",
       "      <th>883505</th>\n",
       "      <td>{'date': 'May 2013', 'price': 'Contact'}</td>\n",
       "      <td>-37.899518</td>\n",
       "      <td>144.770274</td>\n",
       "      <td>2 WATERSEDGE COVE, POINT COOK</td>\n",
       "      <td>5.0</td>\n",
       "      <td>3.0</td>\n",
       "      <td>4.0</td>\n",
       "      <td>NaN</td>\n",
       "      <td>House</td>\n",
       "      <td>NaN</td>\n",
       "      <td>May 2013</td>\n",
       "    </tr>\n",
       "  </tbody>\n",
       "</table>\n",
       "<p>117560 rows × 11 columns</p>\n",
       "</div>"
      ],
      "text/plain": [
       "                                        rented_price_dict        lat  \\\n",
       "492           {'date': 'January 2013', 'price': 'To Let'} -37.758123   \n",
       "587             {'date': 'June 2022', 'price': 'Contact'} -37.820031   \n",
       "645        {'date': 'February 2015', 'price': 'per week'} -37.814966   \n",
       "735       {'date': 'August 2017', 'price': 'Please Call'} -37.823697   \n",
       "895         {'date': 'February 2018', 'price': 'Contact'} -38.049413   \n",
       "...                                                   ...        ...   \n",
       "883310  {'date': 'December 2019', 'price': 'Price on a... -37.809413   \n",
       "883311  {'date': 'February 2017', 'price': 'Enquiries ... -37.809413   \n",
       "883337     {'date': 'December 2016', 'price': 'per week'} -37.820366   \n",
       "883357           {'date': 'January 2021', 'price': '$45'} -37.809297   \n",
       "883505           {'date': 'May 2013', 'price': 'Contact'} -37.899518   \n",
       "\n",
       "               lng                               address  bed  bath  car land  \\\n",
       "492     145.039918                2 WADHAM ROAD, IVANHOE  3.0   2.0  1.0  NaN   \n",
       "587     144.941545      302/9 WATERSIDE PLACE, DOCKLANDS  2.0   2.0  1.0  NaN   \n",
       "645     144.946041            8 MARMION PLACE, DOCKLANDS  2.0   1.0  1.0  NaN   \n",
       "735     144.941350     1005/1 POINT PARK CRES, DOCKLANDS  1.0   1.0  0.0  NaN   \n",
       "895     145.369865        10 HORNER STREET, BEACONSFIELD  3.0   1.0  1.0  NaN   \n",
       "...            ...                                   ...  ...   ...  ...  ...   \n",
       "883310  144.959680  2013/120 A'BECKETT STREET, MELBOURNE  1.0   1.0  0.0  NaN   \n",
       "883311  144.959680  2013/120 A'BECKETT STREET, MELBOURNE  1.0   1.0  0.0  NaN   \n",
       "883337  144.955971       2405/8 DOWNIE STREET, MELBOURNE  2.0   2.0  1.0  NaN   \n",
       "883357  144.959808       120 A'BECKETT STREET, MELBOURNE  2.0   2.0  1.0  NaN   \n",
       "883505  144.770274         2 WATERSEDGE COVE, POINT COOK  5.0   3.0  4.0  NaN   \n",
       "\n",
       "                      type rented_price           date  \n",
       "492              Unit/apmt          NaN   January 2013  \n",
       "587              Unit/apmt          NaN      June 2022  \n",
       "645     Rental_residential          NaN  February 2015  \n",
       "735              Unit/apmt          NaN    August 2017  \n",
       "895                  House          NaN  February 2018  \n",
       "...                    ...          ...            ...  \n",
       "883310           Unit/apmt          NaN  December 2019  \n",
       "883311           Unit/apmt          NaN  February 2017  \n",
       "883337           Unit/apmt          NaN  December 2016  \n",
       "883357           Unit/apmt          NaN   January 2021  \n",
       "883505               House          NaN       May 2013  \n",
       "\n",
       "[117560 rows x 11 columns]"
      ]
     },
     "execution_count": 8,
     "metadata": {},
     "output_type": "execute_result"
    }
   ],
   "source": [
    "# find the data that has rented price is nan\n",
    "rental_df[rental_df[\"rented_price\"].isna()]"
   ]
  },
  {
   "cell_type": "code",
   "execution_count": 9,
   "metadata": {},
   "outputs": [
    {
     "name": "stderr",
     "output_type": "stream",
     "text": [
      "C:\\Users\\Richard\\AppData\\Local\\Temp\\ipykernel_36620\\260013549.py:2: UserWarning: Could not infer format, so each element will be parsed individually, falling back to `dateutil`. To ensure parsing is consistent and as-expected, please specify a format.\n",
      "  rental_df[\"date\"] = pd.to_datetime(rental_df[\"date\"])\n"
     ]
    }
   ],
   "source": [
    "# change the date to datetime\n",
    "rental_df[\"date\"] = pd.to_datetime(rental_df[\"date\"])\n",
    "\n",
    "# change the address column to type string\n",
    "rental_df[\"address\"] = rental_df[\"address\"].astype(str)\n",
    "\n",
    "# change the land column to type string\n",
    "rental_df[\"land\"] = rental_df[\"land\"].astype(str)\n",
    "\n",
    "# change the type column to type string\n",
    "rental_df[\"type\"] = rental_df[\"type\"].astype(str)\n",
    "\n",
    "# remove $ sign from rented_price\n",
    "rental_df[\"rented_price\"] = rental_df[\"rented_price\"].astype(str)\n",
    "rental_df.dropna(subset=[\"rented_price\"],inplace=True)\n",
    "rental_df[\"rented_price\"] = rental_df[\"rented_price\"].apply(lambda x: str(x.replace(\"$\",\"\")))\n",
    "# drop the rows if it's nan\n",
    "rental_df = rental_df[rental_df[\"rented_price\"] != \"nan\"]\n",
    "rental_df[\"rented_price\"] = rental_df[\"rented_price\"].astype(int)\n"
   ]
  },
  {
   "cell_type": "markdown",
   "metadata": {},
   "source": [
    "Deal with the type of the building, as only interested in residential, remove other types"
   ]
  },
  {
   "cell_type": "code",
   "execution_count": 10,
   "metadata": {},
   "outputs": [],
   "source": [
    "# if the type is Rental_residential, if this property has bedroom number higher than 3, then it's a house otherwise it's a unit/apartment\n",
    "rental_df.loc[(rental_df[\"type\"].isin([\"Rental_residential\",\"Rental\",\"Residential\",\"Flat\",\"Apartment\",\"Residential Lease\"])) & (rental_df[\"bed\"]>3),\"type\"] = \"House\"\n",
    "rental_df.loc[(rental_df[\"type\"].isin([\"Rental_residential\",\"Rental\",\"Residential\",\"Flat\",\"Apartment\",\"Residential Lease\"])) & (rental_df[\"bed\"]<=3),\"type\"] = \"Unit/apmt\"\n",
    "\n",
    "# if the type is a Unit\n",
    "rental_df.loc[rental_df[\"type\"].isin([\"Unit\",\"Apartment\",\"Flat\"]),\"type\"] = \"Unit/apmt\"\n",
    "\n",
    "# remove all other types as we are only interested in House, Unit/apmt, Townhouse, Studio\n",
    "rental_df = rental_df[rental_df[\"type\"].isin([\"House\",\"Unit/apmt\",\"Townhouse\",\"Studio\"])]"
   ]
  },
  {
   "cell_type": "code",
   "execution_count": 11,
   "metadata": {},
   "outputs": [],
   "source": [
    "rental_df[\"type\"].value_counts()\n",
    "rental_df.drop(columns=[\"rented_price_dict\"],inplace=True)"
   ]
  },
  {
   "cell_type": "code",
   "execution_count": 12,
   "metadata": {},
   "outputs": [
    {
     "data": {
      "text/plain": [
       "lat                    float64\n",
       "lng                    float64\n",
       "address                 object\n",
       "bed                    float64\n",
       "bath                   float64\n",
       "car                    float64\n",
       "land                    object\n",
       "type                    object\n",
       "rented_price             int32\n",
       "date            datetime64[ns]\n",
       "dtype: object"
      ]
     },
     "execution_count": 12,
     "metadata": {},
     "output_type": "execute_result"
    }
   ],
   "source": [
    "rental_df.dtypes"
   ]
  },
  {
   "cell_type": "code",
   "execution_count": 13,
   "metadata": {},
   "outputs": [
    {
     "data": {
      "text/plain": [
       "lat             5557093\n",
       "lng             5557093\n",
       "address         5557093\n",
       "bed             5557093\n",
       "bath            5557093\n",
       "car             5557093\n",
       "land            5557093\n",
       "type            5557093\n",
       "rented_price    5557093\n",
       "date            5557093\n",
       "dtype: int64"
      ]
     },
     "execution_count": 13,
     "metadata": {},
     "output_type": "execute_result"
    }
   ],
   "source": [
    "rental_df.count()"
   ]
  },
  {
   "cell_type": "code",
   "execution_count": 29,
   "metadata": {},
   "outputs": [],
   "source": [
    "# set the preview to show first 100 rows\n",
    "pd.set_option('display.max_rows', 20)"
   ]
  },
  {
   "cell_type": "code",
   "execution_count": 32,
   "metadata": {},
   "outputs": [
    {
     "data": {
      "text/html": [
       "<div>\n",
       "<style scoped>\n",
       "    .dataframe tbody tr th:only-of-type {\n",
       "        vertical-align: middle;\n",
       "    }\n",
       "\n",
       "    .dataframe tbody tr th {\n",
       "        vertical-align: top;\n",
       "    }\n",
       "\n",
       "    .dataframe thead th {\n",
       "        text-align: right;\n",
       "    }\n",
       "</style>\n",
       "<table border=\"1\" class=\"dataframe\">\n",
       "  <thead>\n",
       "    <tr style=\"text-align: right;\">\n",
       "      <th></th>\n",
       "      <th>lat</th>\n",
       "      <th>lng</th>\n",
       "      <th>address</th>\n",
       "      <th>bed</th>\n",
       "      <th>bath</th>\n",
       "      <th>car</th>\n",
       "      <th>land</th>\n",
       "      <th>type</th>\n",
       "      <th>rented_price</th>\n",
       "      <th>date</th>\n",
       "    </tr>\n",
       "  </thead>\n",
       "  <tbody>\n",
       "    <tr>\n",
       "      <th>0</th>\n",
       "      <td>-37.813730</td>\n",
       "      <td>144.955580</td>\n",
       "      <td>201/560 LONSDALE STREET, MELBOURNE</td>\n",
       "      <td>2.0</td>\n",
       "      <td>2.0</td>\n",
       "      <td>1.0</td>\n",
       "      <td>1044 sq ft / 97 sq m</td>\n",
       "      <td>Unit/apmt</td>\n",
       "      <td>800</td>\n",
       "      <td>2023-08-01</td>\n",
       "    </tr>\n",
       "    <tr>\n",
       "      <th>1</th>\n",
       "      <td>-37.813730</td>\n",
       "      <td>144.955580</td>\n",
       "      <td>201/560 LONSDALE STREET, MELBOURNE</td>\n",
       "      <td>2.0</td>\n",
       "      <td>2.0</td>\n",
       "      <td>1.0</td>\n",
       "      <td>1044 sq ft / 97 sq m</td>\n",
       "      <td>Unit/apmt</td>\n",
       "      <td>730</td>\n",
       "      <td>2024-03-01</td>\n",
       "    </tr>\n",
       "    <tr>\n",
       "      <th>2</th>\n",
       "      <td>-37.813730</td>\n",
       "      <td>144.955580</td>\n",
       "      <td>201/560 LONSDALE STREET, MELBOURNE</td>\n",
       "      <td>2.0</td>\n",
       "      <td>2.0</td>\n",
       "      <td>1.0</td>\n",
       "      <td>1044 sq ft / 97 sq m</td>\n",
       "      <td>Unit/apmt</td>\n",
       "      <td>800</td>\n",
       "      <td>2023-07-01</td>\n",
       "    </tr>\n",
       "    <tr>\n",
       "      <th>3</th>\n",
       "      <td>-37.813730</td>\n",
       "      <td>144.955580</td>\n",
       "      <td>201/560 LONSDALE STREET, MELBOURNE</td>\n",
       "      <td>2.0</td>\n",
       "      <td>2.0</td>\n",
       "      <td>1.0</td>\n",
       "      <td>1044 sq ft / 97 sq m</td>\n",
       "      <td>Unit/apmt</td>\n",
       "      <td>540</td>\n",
       "      <td>2021-08-01</td>\n",
       "    </tr>\n",
       "    <tr>\n",
       "      <th>4</th>\n",
       "      <td>-37.813730</td>\n",
       "      <td>144.955580</td>\n",
       "      <td>1702/560 LONSDALE STREET, MELBOURNE</td>\n",
       "      <td>2.0</td>\n",
       "      <td>1.0</td>\n",
       "      <td>0.0</td>\n",
       "      <td>nan</td>\n",
       "      <td>Unit/apmt</td>\n",
       "      <td>720</td>\n",
       "      <td>2023-08-01</td>\n",
       "    </tr>\n",
       "    <tr>\n",
       "      <th>...</th>\n",
       "      <td>...</td>\n",
       "      <td>...</td>\n",
       "      <td>...</td>\n",
       "      <td>...</td>\n",
       "      <td>...</td>\n",
       "      <td>...</td>\n",
       "      <td>...</td>\n",
       "      <td>...</td>\n",
       "      <td>...</td>\n",
       "      <td>...</td>\n",
       "    </tr>\n",
       "    <tr>\n",
       "      <th>883636</th>\n",
       "      <td>-37.883631</td>\n",
       "      <td>144.732710</td>\n",
       "      <td>96 BOARDWALK BOULEVARD, POINT COOK</td>\n",
       "      <td>3.0</td>\n",
       "      <td>2.0</td>\n",
       "      <td>2.0</td>\n",
       "      <td>nan</td>\n",
       "      <td>Unit/apmt</td>\n",
       "      <td>330</td>\n",
       "      <td>2011-12-01</td>\n",
       "    </tr>\n",
       "    <tr>\n",
       "      <th>883637</th>\n",
       "      <td>-37.883631</td>\n",
       "      <td>144.732710</td>\n",
       "      <td>96 BOARDWALK BOULEVARD, POINT COOK</td>\n",
       "      <td>3.0</td>\n",
       "      <td>2.0</td>\n",
       "      <td>2.0</td>\n",
       "      <td>nan</td>\n",
       "      <td>Unit/apmt</td>\n",
       "      <td>330</td>\n",
       "      <td>2011-11-01</td>\n",
       "    </tr>\n",
       "    <tr>\n",
       "      <th>883638</th>\n",
       "      <td>-37.883631</td>\n",
       "      <td>144.732710</td>\n",
       "      <td>96 BOARDWALK BOULEVARD, POINT COOK</td>\n",
       "      <td>3.0</td>\n",
       "      <td>2.0</td>\n",
       "      <td>2.0</td>\n",
       "      <td>nan</td>\n",
       "      <td>Unit/apmt</td>\n",
       "      <td>280</td>\n",
       "      <td>2009-11-01</td>\n",
       "    </tr>\n",
       "    <tr>\n",
       "      <th>883639</th>\n",
       "      <td>-37.895171</td>\n",
       "      <td>144.759854</td>\n",
       "      <td>53 BROADBEACH CIRCUIT, POINT COOK</td>\n",
       "      <td>4.0</td>\n",
       "      <td>2.0</td>\n",
       "      <td>2.0</td>\n",
       "      <td>nan</td>\n",
       "      <td>Townhouse</td>\n",
       "      <td>420</td>\n",
       "      <td>2019-09-01</td>\n",
       "    </tr>\n",
       "    <tr>\n",
       "      <th>883640</th>\n",
       "      <td>-37.895171</td>\n",
       "      <td>144.759854</td>\n",
       "      <td>53 BROADBEACH CIRCUIT, POINT COOK</td>\n",
       "      <td>4.0</td>\n",
       "      <td>2.0</td>\n",
       "      <td>2.0</td>\n",
       "      <td>nan</td>\n",
       "      <td>Townhouse</td>\n",
       "      <td>430</td>\n",
       "      <td>2016-03-01</td>\n",
       "    </tr>\n",
       "  </tbody>\n",
       "</table>\n",
       "<p>5557093 rows × 10 columns</p>\n",
       "</div>"
      ],
      "text/plain": [
       "              lat         lng                              address  bed  bath  \\\n",
       "0      -37.813730  144.955580   201/560 LONSDALE STREET, MELBOURNE  2.0   2.0   \n",
       "1      -37.813730  144.955580   201/560 LONSDALE STREET, MELBOURNE  2.0   2.0   \n",
       "2      -37.813730  144.955580   201/560 LONSDALE STREET, MELBOURNE  2.0   2.0   \n",
       "3      -37.813730  144.955580   201/560 LONSDALE STREET, MELBOURNE  2.0   2.0   \n",
       "4      -37.813730  144.955580  1702/560 LONSDALE STREET, MELBOURNE  2.0   1.0   \n",
       "...           ...         ...                                  ...  ...   ...   \n",
       "883636 -37.883631  144.732710   96 BOARDWALK BOULEVARD, POINT COOK  3.0   2.0   \n",
       "883637 -37.883631  144.732710   96 BOARDWALK BOULEVARD, POINT COOK  3.0   2.0   \n",
       "883638 -37.883631  144.732710   96 BOARDWALK BOULEVARD, POINT COOK  3.0   2.0   \n",
       "883639 -37.895171  144.759854    53 BROADBEACH CIRCUIT, POINT COOK  4.0   2.0   \n",
       "883640 -37.895171  144.759854    53 BROADBEACH CIRCUIT, POINT COOK  4.0   2.0   \n",
       "\n",
       "        car                  land       type  rented_price       date  \n",
       "0       1.0  1044 sq ft / 97 sq m  Unit/apmt           800 2023-08-01  \n",
       "1       1.0  1044 sq ft / 97 sq m  Unit/apmt           730 2024-03-01  \n",
       "2       1.0  1044 sq ft / 97 sq m  Unit/apmt           800 2023-07-01  \n",
       "3       1.0  1044 sq ft / 97 sq m  Unit/apmt           540 2021-08-01  \n",
       "4       0.0                   nan  Unit/apmt           720 2023-08-01  \n",
       "...     ...                   ...        ...           ...        ...  \n",
       "883636  2.0                   nan  Unit/apmt           330 2011-12-01  \n",
       "883637  2.0                   nan  Unit/apmt           330 2011-11-01  \n",
       "883638  2.0                   nan  Unit/apmt           280 2009-11-01  \n",
       "883639  2.0                   nan  Townhouse           420 2019-09-01  \n",
       "883640  2.0                   nan  Townhouse           430 2016-03-01  \n",
       "\n",
       "[5557093 rows x 10 columns]"
      ]
     },
     "execution_count": 32,
     "metadata": {},
     "output_type": "execute_result"
    }
   ],
   "source": [
    "rental_df1 = rental_df[rental_df[\"date\"] <= \"2021\"].join"
   ]
  },
  {
   "cell_type": "code",
   "execution_count": 34,
   "metadata": {},
   "outputs": [
    {
     "data": {
      "text/plain": [
       "lat             5557093\n",
       "lng             5557093\n",
       "address         5557093\n",
       "bed             5557093\n",
       "bath            5557093\n",
       "car             5557093\n",
       "land            5557093\n",
       "type            5557093\n",
       "rented_price    5557093\n",
       "date            5557093\n",
       "dtype: int64"
      ]
     },
     "execution_count": 34,
     "metadata": {},
     "output_type": "execute_result"
    }
   ],
   "source": [
    "rental_df.count()"
   ]
  },
  {
   "cell_type": "code",
   "execution_count": 36,
   "metadata": {},
   "outputs": [],
   "source": [
    "\n",
    "rental_df = rental_df.drop_duplicates(subset=['date', 'address', 'rented_price'], keep='first')\n",
    "\n"
   ]
  },
  {
   "cell_type": "code",
   "execution_count": 37,
   "metadata": {},
   "outputs": [
    {
     "data": {
      "text/plain": [
       "lat             3475870\n",
       "lng             3475870\n",
       "address         3475870\n",
       "bed             3475870\n",
       "bath            3475870\n",
       "car             3475870\n",
       "land            3475870\n",
       "type            3475870\n",
       "rented_price    3475870\n",
       "date            3475870\n",
       "dtype: int64"
      ]
     },
     "execution_count": 37,
     "metadata": {},
     "output_type": "execute_result"
    }
   ],
   "source": [
    "rental_df.count()"
   ]
  },
  {
   "cell_type": "markdown",
   "metadata": {},
   "source": [
    "Remove land as most of the values are missing and in different formats"
   ]
  },
  {
   "cell_type": "code",
   "execution_count": 38,
   "metadata": {},
   "outputs": [
    {
     "name": "stderr",
     "output_type": "stream",
     "text": [
      "C:\\Users\\Richard\\AppData\\Local\\Temp\\ipykernel_36620\\1125025560.py:2: SettingWithCopyWarning: \n",
      "A value is trying to be set on a copy of a slice from a DataFrame\n",
      "\n",
      "See the caveats in the documentation: https://pandas.pydata.org/pandas-docs/stable/user_guide/indexing.html#returning-a-view-versus-a-copy\n",
      "  rental_df.drop(columns=[\"land\"],inplace=True)\n"
     ]
    }
   ],
   "source": [
    "# drop the column land\n",
    "rental_df.drop(columns=[\"land\"],inplace=True)"
   ]
  },
  {
   "cell_type": "markdown",
   "metadata": {},
   "source": [
    "Removing negative numbers for bedrooms"
   ]
  },
  {
   "cell_type": "code",
   "execution_count": 39,
   "metadata": {},
   "outputs": [],
   "source": [
    "# remove negative numbers for bedrooms\n",
    "rental_df = rental_df[rental_df[\"bed\"]>0]"
   ]
  },
  {
   "cell_type": "code",
   "execution_count": 40,
   "metadata": {},
   "outputs": [
    {
     "name": "stdout",
     "output_type": "stream",
     "text": [
      "0\n",
      "2200\n"
     ]
    }
   ],
   "source": [
    "# print the range of rented price\n",
    "print(rental_df[\"rented_price\"].min())\n",
    "print(rental_df[\"rented_price\"].max())\n",
    "\n",
    "# remove columns that has rented_price less than 150\n",
    "rental_df = rental_df[rental_df[\"rented_price\"]>150]"
   ]
  },
  {
   "cell_type": "code",
   "execution_count": 41,
   "metadata": {},
   "outputs": [],
   "source": [
    "# remove rows with bed more than 6\n",
    "rental_df = rental_df[rental_df[\"bed\"]<=6]\n"
   ]
  },
  {
   "cell_type": "code",
   "execution_count": 42,
   "metadata": {},
   "outputs": [
    {
     "data": {
      "text/plain": [
       "lat             3388736\n",
       "lng             3388736\n",
       "address         3388736\n",
       "bed             3388736\n",
       "bath            3388736\n",
       "car             3388736\n",
       "type            3388736\n",
       "rented_price    3388736\n",
       "date            3388736\n",
       "dtype: int64"
      ]
     },
     "execution_count": 42,
     "metadata": {},
     "output_type": "execute_result"
    }
   ],
   "source": [
    "rental_df.count()"
   ]
  },
  {
   "cell_type": "code",
   "execution_count": 43,
   "metadata": {},
   "outputs": [
    {
     "name": "stderr",
     "output_type": "stream",
     "text": [
      "C:\\Users\\Richard\\AppData\\Local\\Packages\\PythonSoftwareFoundation.Python.3.11_qbz5n2kfra8p0\\LocalCache\\local-packages\\Python311\\site-packages\\seaborn\\categorical.py:640: FutureWarning: SeriesGroupBy.grouper is deprecated and will be removed in a future version of pandas.\n",
      "  positions = grouped.grouper.result_index.to_numpy(dtype=float)\n"
     ]
    },
    {
     "data": {
      "text/plain": [
       "Text(0.5, 1.0, 'Boxplot of rented price and number of bedrooms')"
      ]
     },
     "execution_count": 43,
     "metadata": {},
     "output_type": "execute_result"
    },
    {
     "data": {
      "image/png": "[encoded data removed]",
      "text/plain": [
       "<Figure size 1000x600 with 1 Axes>"
      ]
     },
     "metadata": {},
     "output_type": "display_data"
    }
   ],
   "source": [
    "# plot a diagram comparing the rented price and the number of bedrooms\n",
    "import matplotlib.pyplot as plt\n",
    "import seaborn as sns\n",
    "sns.set_theme()\n",
    "plt.figure(figsize=(10,6))\n",
    "sns.boxplot(x=\"bed\",y=\"rented_price\",data=rental_df)\n",
    "plt.title(\"Boxplot of rented price and number of bedrooms\")"
   ]
  },
  {
   "cell_type": "code",
   "execution_count": 45,
   "metadata": {},
   "outputs": [],
   "source": [
    "# if a property has more than 4 bedrooms, then it's a house\n",
    "rental_df.loc[rental_df[\"bed\"]>4,\"type\"] = \"House\""
   ]
  },
  {
   "cell_type": "code",
   "execution_count": 47,
   "metadata": {},
   "outputs": [],
   "source": [
    "rental_df.to_csv(\"../data/raw/rental_data.csv\",index=False)"
   ]
  }
 ],
 "metadata": {
  "kernelspec": {
   "display_name": "Python 3",
   "language": "python",
   "name": "python3"
  },
  "language_info": {
   "codemirror_mode": {
    "name": "ipython",
    "version": 3
   },
   "file_extension": ".py",
   "mimetype": "text/x-python",
   "name": "python",
   "nbconvert_exporter": "python",
   "pygments_lexer": "ipython3",
   "version": "3.10.12"
  }
 },
 "nbformat": 4,
 "nbformat_minor": 2
}
