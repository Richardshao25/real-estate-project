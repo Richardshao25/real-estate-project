{
 "cells": [
  {
   "cell_type": "markdown",
   "metadata": {},
   "source": [
    "Note:\n",
    "\n",
    "this file contains two main part\n",
    "\n",
    "1. find proximity(time) of something(nearest ptv stop). This requires a local running ORS server, which might not be reproducable\n",
    "\n",
    "2. join to cleaned data"
   ]
  },
  {
   "cell_type": "code",
   "execution_count": 1,
   "metadata": {},
   "outputs": [
    {
     "name": "stderr",
     "output_type": "stream",
     "text": [
      "/home/even/repo/project-2-group-real-estate-industry-project-2/.venv/lib/python3.10/site-packages/tqdm/auto.py:21: TqdmWarning: IProgress not found. Please update jupyter and ipywidgets. See https://ipywidgets.readthedocs.io/en/stable/user_install.html\n",
      "  from .autonotebook import tqdm as notebook_tqdm\n"
     ]
    }
   ],
   "source": [
    "import pandas as pd\n",
    "import geopandas as gpd\n",
    "from shapely import wkt\n",
    "from shapely.geometry import Point\n",
    "from scipy.spatial import cKDTree\n",
    "import numpy as np\n",
    "import requests\n",
    "import json\n",
    "from tqdm.auto import tqdm\n",
    "tqdm.pandas()  # \"tqdm>=4.9.0\"\n",
    "school_path = \"../data/raw/school_zones/school_zones.csv\"\n",
    "ptv_path = \"../data/raw/ptv_zones/ptv_zones.csv\""
   ]
  },
  {
   "cell_type": "markdown",
   "metadata": {},
   "source": [
    "# Rental"
   ]
  },
  {
   "cell_type": "code",
   "execution_count": 27,
   "metadata": {},
   "outputs": [],
   "source": [
    "path = \"../data/raw/oldlistings_rent_2.json\"\n",
    "property_df = pd.read_json(open(path, \"r\"))"
   ]
  },
  {
   "cell_type": "code",
   "execution_count": 28,
   "metadata": {},
   "outputs": [
    {
     "data": {
      "text/html": [
       "<div>\n",
       "<style scoped>\n",
       "    .dataframe tbody tr th:only-of-type {\n",
       "        vertical-align: middle;\n",
       "    }\n",
       "\n",
       "    .dataframe tbody tr th {\n",
       "        vertical-align: top;\n",
       "    }\n",
       "\n",
       "    .dataframe thead th {\n",
       "        text-align: right;\n",
       "    }\n",
       "</style>\n",
       "<table border=\"1\" class=\"dataframe\">\n",
       "  <thead>\n",
       "    <tr style=\"text-align: right;\">\n",
       "      <th></th>\n",
       "      <th>lat</th>\n",
       "      <th>lng</th>\n",
       "      <th>rented_prices</th>\n",
       "      <th>address</th>\n",
       "      <th>meta_data</th>\n",
       "    </tr>\n",
       "  </thead>\n",
       "  <tbody>\n",
       "    <tr>\n",
       "      <th>0</th>\n",
       "      <td>-37.813730</td>\n",
       "      <td>144.955580</td>\n",
       "      <td>[{'date': 'August 2023', 'price': '$800 per we...</td>\n",
       "      <td>201/560 LONSDALE STREET, MELBOURNE</td>\n",
       "      <td>[{'label': 'bed', 'description': 'Bed', 'quant...</td>\n",
       "    </tr>\n",
       "    <tr>\n",
       "      <th>1</th>\n",
       "      <td>-37.813730</td>\n",
       "      <td>144.955580</td>\n",
       "      <td>[{'date': 'August 2023', 'price': '$720 per we...</td>\n",
       "      <td>1702/560 LONSDALE STREET, MELBOURNE</td>\n",
       "      <td>[{'label': 'bed', 'description': 'Bed', 'quant...</td>\n",
       "    </tr>\n",
       "    <tr>\n",
       "      <th>2</th>\n",
       "      <td>-37.810280</td>\n",
       "      <td>144.956670</td>\n",
       "      <td>[{'date': 'August 2023', 'price': '$830 per we...</td>\n",
       "      <td>2007/228 ABECKETT STREET, MELBOURNE</td>\n",
       "      <td>[{'label': 'bed', 'description': 'Bed', 'quant...</td>\n",
       "    </tr>\n",
       "    <tr>\n",
       "      <th>3</th>\n",
       "      <td>-37.813590</td>\n",
       "      <td>144.955720</td>\n",
       "      <td>[{'date': 'August 2023', 'price': '$660 per we...</td>\n",
       "      <td>901/21 HEALEYS LANE, MELBOURNE</td>\n",
       "      <td>[{'label': 'bed', 'description': 'Bed', 'quant...</td>\n",
       "    </tr>\n",
       "    <tr>\n",
       "      <th>4</th>\n",
       "      <td>-37.813700</td>\n",
       "      <td>144.953930</td>\n",
       "      <td>[{'date': 'August 2023', 'price': '$830 per we...</td>\n",
       "      <td>3801/601 LITTLE LONSDALE STREET, MELBOURNE</td>\n",
       "      <td>[{'label': 'bed', 'description': 'Bed', 'quant...</td>\n",
       "    </tr>\n",
       "    <tr>\n",
       "      <th>...</th>\n",
       "      <td>...</td>\n",
       "      <td>...</td>\n",
       "      <td>...</td>\n",
       "      <td>...</td>\n",
       "      <td>...</td>\n",
       "    </tr>\n",
       "    <tr>\n",
       "      <th>539050</th>\n",
       "      <td>-37.840959</td>\n",
       "      <td>145.032227</td>\n",
       "      <td>[{'date': 'November 2007', 'price': '$575 pw'}...</td>\n",
       "      <td>3/422-426 GLENFERRIE ROAD, KOOYONG</td>\n",
       "      <td>[{'label': 'bed', 'description': 'Bed', 'quant...</td>\n",
       "    </tr>\n",
       "    <tr>\n",
       "      <th>539051</th>\n",
       "      <td>-37.842220</td>\n",
       "      <td>145.033818</td>\n",
       "      <td>[{'date': 'October 2007', 'price': '$1,700 pw'...</td>\n",
       "      <td>9 MERNDA ROAD, KOOYONG</td>\n",
       "      <td>[{'label': 'bed', 'description': 'Bed', 'quant...</td>\n",
       "    </tr>\n",
       "    <tr>\n",
       "      <th>539052</th>\n",
       "      <td>-37.841322</td>\n",
       "      <td>145.030886</td>\n",
       "      <td>[{'date': 'February 2007', 'price': '$575 pw'}...</td>\n",
       "      <td>27 POWER AVENUE, KOOYONG</td>\n",
       "      <td>[{'label': 'bed', 'description': 'Bed', 'quant...</td>\n",
       "    </tr>\n",
       "    <tr>\n",
       "      <th>539053</th>\n",
       "      <td>-37.843799</td>\n",
       "      <td>145.032879</td>\n",
       "      <td>[{'date': 'February 2007', 'price': '$350 pw'}...</td>\n",
       "      <td>699A TOORAK ROAD, KOOYONG</td>\n",
       "      <td>[{'label': 'bed', 'description': 'Bed', 'quant...</td>\n",
       "    </tr>\n",
       "    <tr>\n",
       "      <th>539054</th>\n",
       "      <td>-37.841208</td>\n",
       "      <td>145.034209</td>\n",
       "      <td>[{'date': 'January 2007', 'price': '$550'}]</td>\n",
       "      <td>5A MONARO ROAD, KOOYONG</td>\n",
       "      <td>[{'label': 'bed', 'description': 'Bed', 'quant...</td>\n",
       "    </tr>\n",
       "  </tbody>\n",
       "</table>\n",
       "<p>539055 rows × 5 columns</p>\n",
       "</div>"
      ],
      "text/plain": [
       "              lat         lng  \\\n",
       "0      -37.813730  144.955580   \n",
       "1      -37.813730  144.955580   \n",
       "2      -37.810280  144.956670   \n",
       "3      -37.813590  144.955720   \n",
       "4      -37.813700  144.953930   \n",
       "...           ...         ...   \n",
       "539050 -37.840959  145.032227   \n",
       "539051 -37.842220  145.033818   \n",
       "539052 -37.841322  145.030886   \n",
       "539053 -37.843799  145.032879   \n",
       "539054 -37.841208  145.034209   \n",
       "\n",
       "                                            rented_prices  \\\n",
       "0       [{'date': 'August 2023', 'price': '$800 per we...   \n",
       "1       [{'date': 'August 2023', 'price': '$720 per we...   \n",
       "2       [{'date': 'August 2023', 'price': '$830 per we...   \n",
       "3       [{'date': 'August 2023', 'price': '$660 per we...   \n",
       "4       [{'date': 'August 2023', 'price': '$830 per we...   \n",
       "...                                                   ...   \n",
       "539050  [{'date': 'November 2007', 'price': '$575 pw'}...   \n",
       "539051  [{'date': 'October 2007', 'price': '$1,700 pw'...   \n",
       "539052  [{'date': 'February 2007', 'price': '$575 pw'}...   \n",
       "539053  [{'date': 'February 2007', 'price': '$350 pw'}...   \n",
       "539054        [{'date': 'January 2007', 'price': '$550'}]   \n",
       "\n",
       "                                           address  \\\n",
       "0               201/560 LONSDALE STREET, MELBOURNE   \n",
       "1              1702/560 LONSDALE STREET, MELBOURNE   \n",
       "2              2007/228 ABECKETT STREET, MELBOURNE   \n",
       "3                   901/21 HEALEYS LANE, MELBOURNE   \n",
       "4       3801/601 LITTLE LONSDALE STREET, MELBOURNE   \n",
       "...                                            ...   \n",
       "539050          3/422-426 GLENFERRIE ROAD, KOOYONG   \n",
       "539051                      9 MERNDA ROAD, KOOYONG   \n",
       "539052                    27 POWER AVENUE, KOOYONG   \n",
       "539053                   699A TOORAK ROAD, KOOYONG   \n",
       "539054                     5A MONARO ROAD, KOOYONG   \n",
       "\n",
       "                                                meta_data  \n",
       "0       [{'label': 'bed', 'description': 'Bed', 'quant...  \n",
       "1       [{'label': 'bed', 'description': 'Bed', 'quant...  \n",
       "2       [{'label': 'bed', 'description': 'Bed', 'quant...  \n",
       "3       [{'label': 'bed', 'description': 'Bed', 'quant...  \n",
       "4       [{'label': 'bed', 'description': 'Bed', 'quant...  \n",
       "...                                                   ...  \n",
       "539050  [{'label': 'bed', 'description': 'Bed', 'quant...  \n",
       "539051  [{'label': 'bed', 'description': 'Bed', 'quant...  \n",
       "539052  [{'label': 'bed', 'description': 'Bed', 'quant...  \n",
       "539053  [{'label': 'bed', 'description': 'Bed', 'quant...  \n",
       "539054  [{'label': 'bed', 'description': 'Bed', 'quant...  \n",
       "\n",
       "[539055 rows x 5 columns]"
      ]
     },
     "execution_count": 28,
     "metadata": {},
     "output_type": "execute_result"
    }
   ],
   "source": [
    "property_df"
   ]
  },
  {
   "cell_type": "code",
   "execution_count": 10,
   "metadata": {},
   "outputs": [],
   "source": [
    "property_df['geometry'] = property_df.apply(lambda row: Point(row['lng'], row['lat']), axis=1)"
   ]
  },
  {
   "cell_type": "code",
   "execution_count": 7,
   "metadata": {},
   "outputs": [],
   "source": [
    "school  = pd.read_csv(school_path)\n",
    "school['geometry'] = school['geometry'].apply(wkt.loads)\n",
    "gdf_school = gpd.GeoDataFrame(school, geometry='geometry')"
   ]
  },
  {
   "cell_type": "code",
   "execution_count": 8,
   "metadata": {},
   "outputs": [
    {
     "data": {
      "text/html": [
       "<div>\n",
       "<style scoped>\n",
       "    .dataframe tbody tr th:only-of-type {\n",
       "        vertical-align: middle;\n",
       "    }\n",
       "\n",
       "    .dataframe tbody tr th {\n",
       "        vertical-align: top;\n",
       "    }\n",
       "\n",
       "    .dataframe thead th {\n",
       "        text-align: right;\n",
       "    }\n",
       "</style>\n",
       "<table border=\"1\" class=\"dataframe\">\n",
       "  <thead>\n",
       "    <tr style=\"text-align: right;\">\n",
       "      <th></th>\n",
       "      <th>School_Name</th>\n",
       "      <th>geometry</th>\n",
       "    </tr>\n",
       "  </thead>\n",
       "  <tbody>\n",
       "    <tr>\n",
       "      <th>0</th>\n",
       "      <td>Lockwood Primary School</td>\n",
       "      <td>POLYGON ((144.19743 -36.82513, 144.20366 -36.8...</td>\n",
       "    </tr>\n",
       "    <tr>\n",
       "      <th>1</th>\n",
       "      <td>Lockwood South Primary School</td>\n",
       "      <td>POLYGON ((143.99198 -36.80865, 143.99179 -36.8...</td>\n",
       "    </tr>\n",
       "    <tr>\n",
       "      <th>2</th>\n",
       "      <td>Heathcote Primary School</td>\n",
       "      <td>POLYGON ((144.6649 -37.02629, 144.88917 -36.91...</td>\n",
       "    </tr>\n",
       "    <tr>\n",
       "      <th>3</th>\n",
       "      <td>Redesdale Mia Mia Primary School</td>\n",
       "      <td>POLYGON ((144.55801 -36.89947, 144.51209 -36.9...</td>\n",
       "    </tr>\n",
       "    <tr>\n",
       "      <th>4</th>\n",
       "      <td>Axedale Primary School</td>\n",
       "      <td>POLYGON ((144.71365 -36.74947, 144.66726 -36.7...</td>\n",
       "    </tr>\n",
       "    <tr>\n",
       "      <th>...</th>\n",
       "      <td>...</td>\n",
       "      <td>...</td>\n",
       "    </tr>\n",
       "    <tr>\n",
       "      <th>1582</th>\n",
       "      <td>Matthew Flinders Girls Secondary College</td>\n",
       "      <td>POLYGON ((144.4229 -38.08573, 144.41875 -38.08...</td>\n",
       "    </tr>\n",
       "    <tr>\n",
       "      <th>1583</th>\n",
       "      <td>Canterbury Girls Secondary College</td>\n",
       "      <td>POLYGON ((145.03764 -37.80765, 145.09942 -37.8...</td>\n",
       "    </tr>\n",
       "    <tr>\n",
       "      <th>1584</th>\n",
       "      <td>Mentone Girls Secondary College</td>\n",
       "      <td>POLYGON ((145.07547 -38.00074, 145.0713 -37.99...</td>\n",
       "    </tr>\n",
       "    <tr>\n",
       "      <th>1585</th>\n",
       "      <td>Melbourne Girls College</td>\n",
       "      <td>POLYGON ((145.02534 -37.79516, 145.04552 -37.8...</td>\n",
       "    </tr>\n",
       "    <tr>\n",
       "      <th>1586</th>\n",
       "      <td>Pascoe Vale Girls Secondary College</td>\n",
       "      <td>POLYGON ((144.89236 -37.7176, 144.89282 -37.71...</td>\n",
       "    </tr>\n",
       "  </tbody>\n",
       "</table>\n",
       "<p>1587 rows × 2 columns</p>\n",
       "</div>"
      ],
      "text/plain": [
       "                                   School_Name  \\\n",
       "0                      Lockwood Primary School   \n",
       "1                Lockwood South Primary School   \n",
       "2                     Heathcote Primary School   \n",
       "3             Redesdale Mia Mia Primary School   \n",
       "4                       Axedale Primary School   \n",
       "...                                        ...   \n",
       "1582  Matthew Flinders Girls Secondary College   \n",
       "1583        Canterbury Girls Secondary College   \n",
       "1584           Mentone Girls Secondary College   \n",
       "1585                   Melbourne Girls College   \n",
       "1586       Pascoe Vale Girls Secondary College   \n",
       "\n",
       "                                               geometry  \n",
       "0     POLYGON ((144.19743 -36.82513, 144.20366 -36.8...  \n",
       "1     POLYGON ((143.99198 -36.80865, 143.99179 -36.8...  \n",
       "2     POLYGON ((144.6649 -37.02629, 144.88917 -36.91...  \n",
       "3     POLYGON ((144.55801 -36.89947, 144.51209 -36.9...  \n",
       "4     POLYGON ((144.71365 -36.74947, 144.66726 -36.7...  \n",
       "...                                                 ...  \n",
       "1582  POLYGON ((144.4229 -38.08573, 144.41875 -38.08...  \n",
       "1583  POLYGON ((145.03764 -37.80765, 145.09942 -37.8...  \n",
       "1584  POLYGON ((145.07547 -38.00074, 145.0713 -37.99...  \n",
       "1585  POLYGON ((145.02534 -37.79516, 145.04552 -37.8...  \n",
       "1586  POLYGON ((144.89236 -37.7176, 144.89282 -37.71...  \n",
       "\n",
       "[1587 rows x 2 columns]"
      ]
     },
     "execution_count": 8,
     "metadata": {},
     "output_type": "execute_result"
    }
   ],
   "source": [
    "gdf_school"
   ]
  },
  {
   "cell_type": "code",
   "execution_count": 40,
   "metadata": {},
   "outputs": [],
   "source": [
    "gdf_houses_with_zones = gpd.sjoin(gpd.GeoDataFrame(df), gdf_school, how=\"inner\", predicate=\"within\")"
   ]
  },
  {
   "cell_type": "code",
   "execution_count": 43,
   "metadata": {},
   "outputs": [],
   "source": [
    "# 1127421\n",
    "in_zone_set = set(gdf_houses_with_zones.reset_index()['index'].values)"
   ]
  },
  {
   "cell_type": "code",
   "execution_count": 47,
   "metadata": {},
   "outputs": [
    {
     "data": {
      "text/plain": [
       "1"
      ]
     },
     "execution_count": 47,
     "metadata": {},
     "output_type": "execute_result"
    }
   ],
   "source": [
    "df.iloc[1].name"
   ]
  },
  {
   "cell_type": "code",
   "execution_count": 48,
   "metadata": {},
   "outputs": [],
   "source": [
    "# gdf_houses_with_zones.reset_index()\n",
    "df[\"inschool\"] = df.reset_index().apply(lambda row: row.name in in_zone_set, axis=1)"
   ]
  },
  {
   "cell_type": "code",
   "execution_count": 52,
   "metadata": {},
   "outputs": [
    {
     "data": {
      "text/plain": [
       "np.float64(0.9896411312389274)"
      ]
     },
     "execution_count": 52,
     "metadata": {},
     "output_type": "execute_result"
    }
   ],
   "source": [
    "df[\"inschool\"].sum() / df.shape[0]"
   ]
  },
  {
   "cell_type": "code",
   "execution_count": null,
   "metadata": {},
   "outputs": [],
   "source": [
    "df"
   ]
  },
  {
   "cell_type": "markdown",
   "metadata": {},
   "source": [
    "# PTV"
   ]
  },
  {
   "cell_type": "code",
   "execution_count": 29,
   "metadata": {},
   "outputs": [],
   "source": [
    "paths = [\"../data/raw/PTV/1 - Regional Train/stops_1_sa2.csv\",\n",
    "         \"../data/raw/PTV/2 - Metropolitan Train/stops_2_sa2.csv\",\n",
    "         \"../data/raw/PTV/3 - Metropolitan Tram/stops_3_sa2.csv\", \n",
    "         \"../data/raw/PTV/4 - Metropolitan Bus/stops_4_sa2.csv\",\n",
    "         \"../data/raw/PTV/5 - Regional Coach/stops_5_sa2.csv\",\n",
    "         \"../data/raw/PTV/6 - Regional Bus/stops_6_sa2.csv\"]\n",
    "total_ptv_coords = []\n",
    "for path in paths:\n",
    "    ptv = pd.read_csv(path)\n",
    "    total_ptv_coords = total_ptv_coords + [ptv[['stop_lon','stop_lat']].values]\n",
    "    # total_ptv_coords = total_ptv_coords + ptv[['stop_lon','stop_lat']].values\\\n",
    "total_ptv_coords = np.concatenate(total_ptv_coords)"
   ]
  },
  {
   "cell_type": "code",
   "execution_count": 30,
   "metadata": {},
   "outputs": [],
   "source": [
    "ptv_df = pd.read_csv(paths[0])\n",
    "ptv_df[\"geometry\"] = ptv_df.apply(lambda row: Point(row['stop_lon'], row['stop_lat']), axis=1)\n",
    "ptv_gdf = gpd.GeoDataFrame(ptv_df, geometry='geometry')"
   ]
  },
  {
   "cell_type": "code",
   "execution_count": 31,
   "metadata": {},
   "outputs": [],
   "source": [
    "num_to_find = 3\n",
    "tree = cKDTree(total_ptv_coords)\n",
    "property_coords = property_df[['lng', 'lat']].values\n",
    "distances, indices = tree.query(property_coords, k=3)\n",
    "property_df[\"ptv_index\"] = list(indices)"
   ]
  },
  {
   "cell_type": "code",
   "execution_count": 32,
   "metadata": {},
   "outputs": [],
   "source": [
    "def get_time_proximity(coordinates):\n",
    "    url = \"http://localhost:8080/ors/v2/directions/foot-walking\"\n",
    "    body = {\"coordinates\": coordinates}\n",
    "    # print(body)\n",
    "    response = requests.post(url, json=body)\n",
    "    try:\n",
    "        if response.status_code == 200:\n",
    "            summary = response.json()[\"routes\"][0][\"summary\"]\n",
    "            if \"duration\" in summary:\n",
    "                return summary[\"duration\"]\n",
    "            return 0\n",
    "        else:\n",
    "            if(response.json()[\"error\"][\"code\"] == 2004):\n",
    "                # distance is too long (> 100000.0 m)\n",
    "                return -1\n",
    "            if(response.json()[\"error\"][\"code\"] == 2010):\n",
    "                # \"error\":{\"code\":2010,\"message\":\"Could not find routable point within a radius of 400.0 meters of specified coordinate\n",
    "                return -1\n",
    "            print(body)\n",
    "            print(response.text)\n",
    "            raise Exception(\"Error in request\")\n",
    "    except Exception as e:\n",
    "        print(response.json())\n",
    "        raise e\n",
    "\n",
    "# # Example usage\n",
    "# directions = get_time_proximity([[144.96332, -37.8140], [144.96332, -37.8120]])\n",
    "# print(directions)"
   ]
  },
  {
   "cell_type": "code",
   "execution_count": 49,
   "metadata": {},
   "outputs": [],
   "source": [
    "def get_time_proximity_from_property(row, ptv_stop_coords,tree):\n",
    "    min_time = -1\n",
    "    # if(num_to_find == 1):\n",
    "    #     coordinates = [[row['lng'], row['lat']], ptv_stop_coords[indices].tolist()]\n",
    "    #     return get_time_proximity(coordinates)\n",
    "    for index in row['ptv_index']:\n",
    "        coordinates = [[row['lng'], row['lat']], ptv_stop_coords[index].tolist()]\n",
    "        time = get_time_proximity(coordinates)\n",
    "        # print(time)\n",
    "        if min_time == -1:\n",
    "            min_time = time\n",
    "        min_time = min(time,min_time)\n",
    "    # coordinates = [[row['lng'], row['lat']], ptv_stop_coords[IndexError].tolist()]\n",
    "    # return get_time_proximity(coordinates)\n",
    "    # print(min_time)\n",
    "    \n",
    "    return min_time"
   ]
  },
  {
   "cell_type": "code",
   "execution_count": 58,
   "metadata": {},
   "outputs": [
    {
     "name": "stderr",
     "output_type": "stream",
     "text": [
      "100%|██████████| 240134/240134 [33:56<00:00, 117.93it/s]\n"
     ]
    }
   ],
   "source": [
    "i=5\n",
    "\n",
    "path = f\"../data/raw/oldlistings_rent_{i}.json\"\n",
    "property_df = pd.read_json(open(path, \"r\"))\n",
    "\n",
    "# get index of the closest ptv stop\n",
    "property_coords = property_df[['lng', 'lat']].values\n",
    "distances, indices = tree.query(property_coords, k=3)\n",
    "property_df[\"ptv_index\"] = list(indices)\n",
    "\n",
    "# dist time matching\n",
    "property_df[\"time_to_ptv_1\"] = property_df.progress_apply(lambda row: get_time_proximity_from_property(row, total_ptv_coords, tree), axis=1)\n",
    "property_df.to_csv(f\"../data/raw/property/rent_{i}_ptv.csv\", index=False)"
   ]
  },
  {
   "cell_type": "code",
   "execution_count": null,
   "metadata": {},
   "outputs": [],
   "source": []
  },
  {
   "cell_type": "markdown",
   "metadata": {},
   "source": [
    "# join to orginal dataset"
   ]
  },
  {
   "cell_type": "markdown",
   "metadata": {},
   "source": [
    "## read all"
   ]
  },
  {
   "cell_type": "code",
   "execution_count": 3,
   "metadata": {},
   "outputs": [],
   "source": [
    "cleaned_df = pd.read_csv(\"../data/raw/property/rental_data_cleaned.csv\")"
   ]
  },
  {
   "cell_type": "code",
   "execution_count": 6,
   "metadata": {},
   "outputs": [
    {
     "data": {
      "text/plain": [
       "4      2017-01-01\n",
       "46     2017-02-01\n",
       "21     2017-03-01\n",
       "61     2017-04-01\n",
       "18     2017-05-01\n",
       "17     2017-06-01\n",
       "20     2017-07-01\n",
       "214    2017-08-01\n",
       "19     2017-09-01\n",
       "10     2017-10-01\n",
       "96     2017-11-01\n",
       "191    2017-12-01\n",
       "16     2018-01-01\n",
       "73     2018-02-01\n",
       "56     2018-03-01\n",
       "211    2018-04-01\n",
       "144    2018-05-01\n",
       "123    2018-06-01\n",
       "38     2018-07-01\n",
       "15     2018-08-01\n",
       "93     2018-09-01\n",
       "14     2018-10-01\n",
       "70     2018-11-01\n",
       "143    2018-12-01\n",
       "142    2019-01-01\n",
       "55     2019-02-01\n",
       "72     2019-03-01\n",
       "80     2019-04-01\n",
       "118    2019-05-01\n",
       "282    2019-06-01\n",
       "84     2019-07-01\n",
       "13     2019-08-01\n",
       "7      2019-09-01\n",
       "107    2019-10-01\n",
       "278    2019-11-01\n",
       "257    2019-12-01\n",
       "65     2020-01-01\n",
       "63     2020-02-01\n",
       "129    2020-03-01\n",
       "128    2020-04-01\n",
       "89     2020-05-01\n",
       "2      2020-06-01\n",
       "5      2020-07-01\n",
       "32     2020-08-01\n",
       "9      2020-09-01\n",
       "8      2020-10-01\n",
       "26     2020-11-01\n",
       "25     2020-12-01\n",
       "48     2021-01-01\n",
       "24     2021-02-01\n",
       "62     2021-03-01\n",
       "22     2021-04-01\n",
       "43     2021-05-01\n",
       "1      2021-06-01\n",
       "6      2021-07-01\n",
       "0      2021-08-01\n",
       "57     2021-09-01\n",
       "23     2021-10-01\n",
       "64     2021-11-01\n",
       "126    2021-12-01\n",
       "Name: date, dtype: object"
      ]
     },
     "execution_count": 6,
     "metadata": {},
     "output_type": "execute_result"
    }
   ],
   "source": [
    "cleaned_df['date'].drop_duplicates().sort_values()"
   ]
  },
  {
   "cell_type": "code",
   "execution_count": 5,
   "metadata": {},
   "outputs": [],
   "source": [
    "# read all the ptv data\n",
    "all_ptv = pd.concat([pd.read_csv(f\"../data/raw/property/rent_{i}_ptv.csv\") for i in range(1,6)])"
   ]
  },
  {
   "cell_type": "code",
   "execution_count": 10,
   "metadata": {},
   "outputs": [
    {
     "data": {
      "text/html": [
       "<div>\n",
       "<style scoped>\n",
       "    .dataframe tbody tr th:only-of-type {\n",
       "        vertical-align: middle;\n",
       "    }\n",
       "\n",
       "    .dataframe tbody tr th {\n",
       "        vertical-align: top;\n",
       "    }\n",
       "\n",
       "    .dataframe thead th {\n",
       "        text-align: right;\n",
       "    }\n",
       "</style>\n",
       "<table border=\"1\" class=\"dataframe\">\n",
       "  <thead>\n",
       "    <tr style=\"text-align: right;\">\n",
       "      <th></th>\n",
       "      <th>lat</th>\n",
       "      <th>lng</th>\n",
       "      <th>address</th>\n",
       "      <th>bed</th>\n",
       "      <th>bath</th>\n",
       "      <th>car</th>\n",
       "      <th>type</th>\n",
       "      <th>rented_price</th>\n",
       "      <th>date</th>\n",
       "      <th>year</th>\n",
       "      <th>geometry</th>\n",
       "      <th>sa2_code_left</th>\n",
       "      <th>sa2_name_left</th>\n",
       "      <th>population</th>\n",
       "      <th>sa2_code_right</th>\n",
       "      <th>region</th>\n",
       "      <th>median_income</th>\n",
       "      <th>cpi</th>\n",
       "      <th>unemployment_rate</th>\n",
       "    </tr>\n",
       "  </thead>\n",
       "  <tbody>\n",
       "    <tr>\n",
       "      <th>0</th>\n",
       "      <td>-37.813730</td>\n",
       "      <td>144.955580</td>\n",
       "      <td>201/560 LONSDALE STREET, MELBOURNE</td>\n",
       "      <td>2.0</td>\n",
       "      <td>2.0</td>\n",
       "      <td>1.0</td>\n",
       "      <td>Unit/apmt</td>\n",
       "      <td>540</td>\n",
       "      <td>2021-08-01</td>\n",
       "      <td>2021</td>\n",
       "      <td>POINT (144.95558001 -37.81373001)</td>\n",
       "      <td>206041505.0</td>\n",
       "      <td>Melbourne CBD - West</td>\n",
       "      <td>16098.0</td>\n",
       "      <td>206041505.0</td>\n",
       "      <td>Melbourne CBD - West</td>\n",
       "      <td>39300.0</td>\n",
       "      <td>3.5</td>\n",
       "      <td>4.200000</td>\n",
       "    </tr>\n",
       "    <tr>\n",
       "      <th>1</th>\n",
       "      <td>-37.810280</td>\n",
       "      <td>144.956670</td>\n",
       "      <td>2007/228 ABECKETT STREET, MELBOURNE</td>\n",
       "      <td>2.0</td>\n",
       "      <td>2.0</td>\n",
       "      <td>0.0</td>\n",
       "      <td>Unit/apmt</td>\n",
       "      <td>360</td>\n",
       "      <td>2021-06-01</td>\n",
       "      <td>2021</td>\n",
       "      <td>POINT (144.95667001 -37.81028001)</td>\n",
       "      <td>206041504.0</td>\n",
       "      <td>Melbourne CBD - North</td>\n",
       "      <td>17360.0</td>\n",
       "      <td>206041504.0</td>\n",
       "      <td>Melbourne CBD - North</td>\n",
       "      <td>29100.0</td>\n",
       "      <td>3.5</td>\n",
       "      <td>4.200000</td>\n",
       "    </tr>\n",
       "    <tr>\n",
       "      <th>2</th>\n",
       "      <td>-37.810280</td>\n",
       "      <td>144.956670</td>\n",
       "      <td>2007/228 ABECKETT STREET, MELBOURNE</td>\n",
       "      <td>2.0</td>\n",
       "      <td>2.0</td>\n",
       "      <td>0.0</td>\n",
       "      <td>Unit/apmt</td>\n",
       "      <td>660</td>\n",
       "      <td>2020-06-01</td>\n",
       "      <td>2020</td>\n",
       "      <td>POINT (144.95667001 -37.81028001)</td>\n",
       "      <td>206041504.0</td>\n",
       "      <td>Melbourne CBD - North</td>\n",
       "      <td>19155.0</td>\n",
       "      <td>206041504.0</td>\n",
       "      <td>Melbourne CBD - North</td>\n",
       "      <td>25000.0</td>\n",
       "      <td>0.9</td>\n",
       "      <td>5.166667</td>\n",
       "    </tr>\n",
       "    <tr>\n",
       "      <th>3</th>\n",
       "      <td>-37.809259</td>\n",
       "      <td>144.966567</td>\n",
       "      <td>1808/318 RUSSELL STREET, MELBOURNE</td>\n",
       "      <td>2.0</td>\n",
       "      <td>2.0</td>\n",
       "      <td>0.0</td>\n",
       "      <td>Unit/apmt</td>\n",
       "      <td>650</td>\n",
       "      <td>2021-06-01</td>\n",
       "      <td>2021</td>\n",
       "      <td>POINT (144.9665671 -37.809259)</td>\n",
       "      <td>206041503.0</td>\n",
       "      <td>Melbourne CBD - East</td>\n",
       "      <td>10119.0</td>\n",
       "      <td>206041503.0</td>\n",
       "      <td>Melbourne CBD - East</td>\n",
       "      <td>40810.0</td>\n",
       "      <td>3.5</td>\n",
       "      <td>4.200000</td>\n",
       "    </tr>\n",
       "    <tr>\n",
       "      <th>4</th>\n",
       "      <td>-37.809259</td>\n",
       "      <td>144.966567</td>\n",
       "      <td>1808/318 RUSSELL STREET, MELBOURNE</td>\n",
       "      <td>2.0</td>\n",
       "      <td>2.0</td>\n",
       "      <td>0.0</td>\n",
       "      <td>Unit/apmt</td>\n",
       "      <td>720</td>\n",
       "      <td>2017-01-01</td>\n",
       "      <td>2017</td>\n",
       "      <td>POINT (144.9665671 -37.809259)</td>\n",
       "      <td>206041503.0</td>\n",
       "      <td>Melbourne CBD - East</td>\n",
       "      <td>11881.0</td>\n",
       "      <td>206041503.0</td>\n",
       "      <td>Melbourne CBD - East</td>\n",
       "      <td>31790.0</td>\n",
       "      <td>1.9</td>\n",
       "      <td>5.608333</td>\n",
       "    </tr>\n",
       "    <tr>\n",
       "      <th>...</th>\n",
       "      <td>...</td>\n",
       "      <td>...</td>\n",
       "      <td>...</td>\n",
       "      <td>...</td>\n",
       "      <td>...</td>\n",
       "      <td>...</td>\n",
       "      <td>...</td>\n",
       "      <td>...</td>\n",
       "      <td>...</td>\n",
       "      <td>...</td>\n",
       "      <td>...</td>\n",
       "      <td>...</td>\n",
       "      <td>...</td>\n",
       "      <td>...</td>\n",
       "      <td>...</td>\n",
       "      <td>...</td>\n",
       "      <td>...</td>\n",
       "      <td>...</td>\n",
       "      <td>...</td>\n",
       "    </tr>\n",
       "    <tr>\n",
       "      <th>1132488</th>\n",
       "      <td>-37.883631</td>\n",
       "      <td>144.732710</td>\n",
       "      <td>96 BOARDWALK BOULEVARD, POINT COOK</td>\n",
       "      <td>3.0</td>\n",
       "      <td>2.0</td>\n",
       "      <td>2.0</td>\n",
       "      <td>Unit/apmt</td>\n",
       "      <td>370</td>\n",
       "      <td>2019-09-01</td>\n",
       "      <td>2019</td>\n",
       "      <td>POINT (144.73271 -37.883631)</td>\n",
       "      <td>213051581.0</td>\n",
       "      <td>Point Cook - North West</td>\n",
       "      <td>9739.0</td>\n",
       "      <td>213051581.0</td>\n",
       "      <td>Point Cook - North West</td>\n",
       "      <td>57433.0</td>\n",
       "      <td>1.8</td>\n",
       "      <td>5.175000</td>\n",
       "    </tr>\n",
       "    <tr>\n",
       "      <th>1132489</th>\n",
       "      <td>-37.883631</td>\n",
       "      <td>144.732710</td>\n",
       "      <td>96 BOARDWALK BOULEVARD, POINT COOK</td>\n",
       "      <td>3.0</td>\n",
       "      <td>2.0</td>\n",
       "      <td>2.0</td>\n",
       "      <td>Unit/apmt</td>\n",
       "      <td>370</td>\n",
       "      <td>2019-08-01</td>\n",
       "      <td>2019</td>\n",
       "      <td>POINT (144.73271 -37.883631)</td>\n",
       "      <td>213051581.0</td>\n",
       "      <td>Point Cook - North West</td>\n",
       "      <td>9739.0</td>\n",
       "      <td>213051581.0</td>\n",
       "      <td>Point Cook - North West</td>\n",
       "      <td>57433.0</td>\n",
       "      <td>1.8</td>\n",
       "      <td>5.175000</td>\n",
       "    </tr>\n",
       "    <tr>\n",
       "      <th>1132490</th>\n",
       "      <td>-37.883631</td>\n",
       "      <td>144.732710</td>\n",
       "      <td>96 BOARDWALK BOULEVARD, POINT COOK</td>\n",
       "      <td>3.0</td>\n",
       "      <td>2.0</td>\n",
       "      <td>2.0</td>\n",
       "      <td>Unit/apmt</td>\n",
       "      <td>370</td>\n",
       "      <td>2019-07-01</td>\n",
       "      <td>2019</td>\n",
       "      <td>POINT (144.73271 -37.883631)</td>\n",
       "      <td>213051581.0</td>\n",
       "      <td>Point Cook - North West</td>\n",
       "      <td>9739.0</td>\n",
       "      <td>213051581.0</td>\n",
       "      <td>Point Cook - North West</td>\n",
       "      <td>57433.0</td>\n",
       "      <td>1.8</td>\n",
       "      <td>5.175000</td>\n",
       "    </tr>\n",
       "    <tr>\n",
       "      <th>1132491</th>\n",
       "      <td>-37.883631</td>\n",
       "      <td>144.732710</td>\n",
       "      <td>96 BOARDWALK BOULEVARD, POINT COOK</td>\n",
       "      <td>3.0</td>\n",
       "      <td>2.0</td>\n",
       "      <td>2.0</td>\n",
       "      <td>Unit/apmt</td>\n",
       "      <td>365</td>\n",
       "      <td>2018-06-01</td>\n",
       "      <td>2018</td>\n",
       "      <td>POINT (144.73271 -37.883631)</td>\n",
       "      <td>213051581.0</td>\n",
       "      <td>Point Cook - North West</td>\n",
       "      <td>9678.0</td>\n",
       "      <td>213051581.0</td>\n",
       "      <td>Point Cook - North West</td>\n",
       "      <td>57001.0</td>\n",
       "      <td>1.8</td>\n",
       "      <td>5.283333</td>\n",
       "    </tr>\n",
       "    <tr>\n",
       "      <th>1132492</th>\n",
       "      <td>-37.895171</td>\n",
       "      <td>144.759854</td>\n",
       "      <td>53 BROADBEACH CIRCUIT, POINT COOK</td>\n",
       "      <td>4.0</td>\n",
       "      <td>2.0</td>\n",
       "      <td>2.0</td>\n",
       "      <td>Townhouse</td>\n",
       "      <td>420</td>\n",
       "      <td>2019-09-01</td>\n",
       "      <td>2019</td>\n",
       "      <td>POINT (144.7598539 -37.8951706)</td>\n",
       "      <td>213051464.0</td>\n",
       "      <td>Point Cook - East</td>\n",
       "      <td>17894.0</td>\n",
       "      <td>213051464.0</td>\n",
       "      <td>Point Cook - East</td>\n",
       "      <td>54778.0</td>\n",
       "      <td>1.8</td>\n",
       "      <td>5.175000</td>\n",
       "    </tr>\n",
       "  </tbody>\n",
       "</table>\n",
       "<p>1132493 rows × 19 columns</p>\n",
       "</div>"
      ],
      "text/plain": [
       "               lat         lng                              address  bed  \\\n",
       "0       -37.813730  144.955580   201/560 LONSDALE STREET, MELBOURNE  2.0   \n",
       "1       -37.810280  144.956670  2007/228 ABECKETT STREET, MELBOURNE  2.0   \n",
       "2       -37.810280  144.956670  2007/228 ABECKETT STREET, MELBOURNE  2.0   \n",
       "3       -37.809259  144.966567   1808/318 RUSSELL STREET, MELBOURNE  2.0   \n",
       "4       -37.809259  144.966567   1808/318 RUSSELL STREET, MELBOURNE  2.0   \n",
       "...            ...         ...                                  ...  ...   \n",
       "1132488 -37.883631  144.732710   96 BOARDWALK BOULEVARD, POINT COOK  3.0   \n",
       "1132489 -37.883631  144.732710   96 BOARDWALK BOULEVARD, POINT COOK  3.0   \n",
       "1132490 -37.883631  144.732710   96 BOARDWALK BOULEVARD, POINT COOK  3.0   \n",
       "1132491 -37.883631  144.732710   96 BOARDWALK BOULEVARD, POINT COOK  3.0   \n",
       "1132492 -37.895171  144.759854    53 BROADBEACH CIRCUIT, POINT COOK  4.0   \n",
       "\n",
       "         bath  car       type  rented_price        date  year  \\\n",
       "0         2.0  1.0  Unit/apmt           540  2021-08-01  2021   \n",
       "1         2.0  0.0  Unit/apmt           360  2021-06-01  2021   \n",
       "2         2.0  0.0  Unit/apmt           660  2020-06-01  2020   \n",
       "3         2.0  0.0  Unit/apmt           650  2021-06-01  2021   \n",
       "4         2.0  0.0  Unit/apmt           720  2017-01-01  2017   \n",
       "...       ...  ...        ...           ...         ...   ...   \n",
       "1132488   2.0  2.0  Unit/apmt           370  2019-09-01  2019   \n",
       "1132489   2.0  2.0  Unit/apmt           370  2019-08-01  2019   \n",
       "1132490   2.0  2.0  Unit/apmt           370  2019-07-01  2019   \n",
       "1132491   2.0  2.0  Unit/apmt           365  2018-06-01  2018   \n",
       "1132492   2.0  2.0  Townhouse           420  2019-09-01  2019   \n",
       "\n",
       "                                  geometry  sa2_code_left  \\\n",
       "0        POINT (144.95558001 -37.81373001)    206041505.0   \n",
       "1        POINT (144.95667001 -37.81028001)    206041504.0   \n",
       "2        POINT (144.95667001 -37.81028001)    206041504.0   \n",
       "3           POINT (144.9665671 -37.809259)    206041503.0   \n",
       "4           POINT (144.9665671 -37.809259)    206041503.0   \n",
       "...                                    ...            ...   \n",
       "1132488       POINT (144.73271 -37.883631)    213051581.0   \n",
       "1132489       POINT (144.73271 -37.883631)    213051581.0   \n",
       "1132490       POINT (144.73271 -37.883631)    213051581.0   \n",
       "1132491       POINT (144.73271 -37.883631)    213051581.0   \n",
       "1132492    POINT (144.7598539 -37.8951706)    213051464.0   \n",
       "\n",
       "                   sa2_name_left  population  sa2_code_right  \\\n",
       "0           Melbourne CBD - West     16098.0     206041505.0   \n",
       "1          Melbourne CBD - North     17360.0     206041504.0   \n",
       "2          Melbourne CBD - North     19155.0     206041504.0   \n",
       "3           Melbourne CBD - East     10119.0     206041503.0   \n",
       "4           Melbourne CBD - East     11881.0     206041503.0   \n",
       "...                          ...         ...             ...   \n",
       "1132488  Point Cook - North West      9739.0     213051581.0   \n",
       "1132489  Point Cook - North West      9739.0     213051581.0   \n",
       "1132490  Point Cook - North West      9739.0     213051581.0   \n",
       "1132491  Point Cook - North West      9678.0     213051581.0   \n",
       "1132492        Point Cook - East     17894.0     213051464.0   \n",
       "\n",
       "                          region  median_income  cpi  unemployment_rate  \n",
       "0           Melbourne CBD - West        39300.0  3.5           4.200000  \n",
       "1          Melbourne CBD - North        29100.0  3.5           4.200000  \n",
       "2          Melbourne CBD - North        25000.0  0.9           5.166667  \n",
       "3           Melbourne CBD - East        40810.0  3.5           4.200000  \n",
       "4           Melbourne CBD - East        31790.0  1.9           5.608333  \n",
       "...                          ...            ...  ...                ...  \n",
       "1132488  Point Cook - North West        57433.0  1.8           5.175000  \n",
       "1132489  Point Cook - North West        57433.0  1.8           5.175000  \n",
       "1132490  Point Cook - North West        57433.0  1.8           5.175000  \n",
       "1132491  Point Cook - North West        57001.0  1.8           5.283333  \n",
       "1132492        Point Cook - East        54778.0  1.8           5.175000  \n",
       "\n",
       "[1132493 rows x 19 columns]"
      ]
     },
     "execution_count": 10,
     "metadata": {},
     "output_type": "execute_result"
    }
   ],
   "source": [
    "cleaned_df"
   ]
  },
  {
   "cell_type": "code",
   "execution_count": 17,
   "metadata": {},
   "outputs": [],
   "source": [
    "all_ptv['ptv_time'] = all_ptv['time_to_ptv_1']\n",
    "all_ptv = all_ptv[['lat','lng','address','ptv_time']]\n",
    "all"
   ]
  },
  {
   "cell_type": "code",
   "execution_count": 37,
   "metadata": {},
   "outputs": [],
   "source": [
    "all_ptv = all_ptv.drop_duplicates()"
   ]
  },
  {
   "cell_type": "code",
   "execution_count": 38,
   "metadata": {},
   "outputs": [],
   "source": [
    "merged_df = cleaned_df.merge(all_ptv, on=['lat','lng','address'], how='left')"
   ]
  },
  {
   "cell_type": "code",
   "execution_count": 39,
   "metadata": {},
   "outputs": [
    {
     "data": {
      "text/plain": [
       "(1132493, 20)"
      ]
     },
     "execution_count": 39,
     "metadata": {},
     "output_type": "execute_result"
    }
   ],
   "source": [
    "merged_df.shape"
   ]
  },
  {
   "cell_type": "code",
   "execution_count": 21,
   "metadata": {},
   "outputs": [
    {
     "data": {
      "text/plain": [
       "(1132493, 19)"
      ]
     },
     "execution_count": 21,
     "metadata": {},
     "output_type": "execute_result"
    }
   ],
   "source": [
    "cleaned_df.shape"
   ]
  },
  {
   "cell_type": "code",
   "execution_count": 24,
   "metadata": {},
   "outputs": [],
   "source": [
    "unmatched_rows = merged_df[merged_df['ptv_time'].isna()]"
   ]
  },
  {
   "cell_type": "code",
   "execution_count": 33,
   "metadata": {},
   "outputs": [],
   "source": [
    "duplicated_rows = all_ptv[all_ptv.duplicated(subset=['lat', 'lng', 'address'], keep=False)]"
   ]
  },
  {
   "cell_type": "code",
   "execution_count": 36,
   "metadata": {},
   "outputs": [
    {
     "data": {
      "text/plain": [
       "(1860717, 4)"
      ]
     },
     "execution_count": 36,
     "metadata": {},
     "output_type": "execute_result"
    }
   ],
   "source": [
    "all_ptv.drop_duplicates().shape"
   ]
  },
  {
   "cell_type": "code",
   "execution_count": 41,
   "metadata": {},
   "outputs": [],
   "source": [
    "merged_df.to_csv(\"../data/raw/property/rental_data_cleaned_ptv.csv\", index=False)"
   ]
  },
  {
   "cell_type": "markdown",
   "metadata": {},
   "source": [
    "# Store Data in forms of a mapping"
   ]
  },
  {
   "cell_type": "code",
   "execution_count": 2,
   "metadata": {},
   "outputs": [],
   "source": [
    "data = pd.read_csv(\"../data/raw/property/rental_data_cleaned_ptv.csv\")"
   ]
  },
  {
   "cell_type": "code",
   "execution_count": 5,
   "metadata": {},
   "outputs": [
    {
     "data": {
      "text/plain": [
       "(1132493, 20)"
      ]
     },
     "execution_count": 5,
     "metadata": {},
     "output_type": "execute_result"
    }
   ],
   "source": [
    "data.shape"
   ]
  },
  {
   "cell_type": "code",
   "execution_count": 6,
   "metadata": {},
   "outputs": [],
   "source": [
    "data[['ptv_time','lat','lng']].drop_duplicates().to_csv(\"../data/raw/time_ptv.csv\", index=False)"
   ]
  }
 ],
 "metadata": {
  "kernelspec": {
   "display_name": ".venv",
   "language": "python",
   "name": "python3"
  },
  "language_info": {
   "codemirror_mode": {
    "name": "ipython",
    "version": 3
   },
   "file_extension": ".py",
   "mimetype": "text/x-python",
   "name": "python",
   "nbconvert_exporter": "python",
   "pygments_lexer": "ipython3",
   "version": "3.10.12"
  }
 },
 "nbformat": 4,
 "nbformat_minor": 2
}
